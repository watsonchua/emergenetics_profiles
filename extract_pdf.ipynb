{
 "cells": [
  {
   "cell_type": "code",
   "execution_count": 8,
   "metadata": {},
   "outputs": [],
   "source": [
    "import PyPDF2\n",
    "\n",
    "with open('/home/watsonchua/Downloads/Emergenetics%20Profile%20and%20Narrative.pdf', 'rb') as f:\n",
    "    # creating a page object\n",
    "    pdfReader = PyPDF2.PdfFileReader(f)\n",
    "    pageObj = pdfReader.getPage(0)\n",
    "    # extracting text from page\n",
    "    text = pageObj.extractText()\n"
   ]
  },
  {
   "cell_type": "code",
   "execution_count": 17,
   "metadata": {},
   "outputs": [
    {
     "data": {
      "text/plain": [
       "'HOW YOU THINK : PERCENTAGESHow you Think: Percentiles How you Behave: Percentiles\\nGeneral Population   0          10         20          30         40         50          60         70         80          90         100Quiet              Introspective                Reserved               Talkative             Gregarious\\nPeacekeeping           Easygoing             Competitive             Forceful               Driving\\nFocused           Firm           Adaptable          Accommodating          Welcomes ChangeStructural\\nSocial\\nConceptual\\nExpressiveness\\nAssertiveness 19\\n 5\\n 69CONCEPTUAL = 38% ANALYTICAL = 49%\\nSTRUCTURAL = 10%Imaginative\\nIntuitive about ideas\\nVisionary\\nEnjoys the unusual\\nLearns by experimenting\\nSOCIAL = 3%\\nHOW YOU COMPARE TO THE GENERAL POPULATIONClear thinker\\nLogical problem solver\\nData driven\\nRational\\nLearns by mental analysis\\nPractical thinker\\nLikes guidelines\\nCautious of new ideas\\nPredictable\\nLearns by doingRelational\\nIntuitive about people\\nSocially aware\\nEmpathic\\nLearns from others\\nWATSON CHUA - OCTOBER 31, 2022\\nGeil Browning, Ph.D. / Wendell Williams , Ph.D.FlexibilityAnalytical  91\\nEMERGENETICS | PROFILE \\n2022 Emergenetics, LLC, 1991, '"
      ]
     },
     "execution_count": 17,
     "metadata": {},
     "output_type": "execute_result"
    }
   ],
   "source": [
    "text"
   ]
  },
  {
   "cell_type": "code",
   "execution_count": 23,
   "metadata": {},
   "outputs": [
    {
     "data": {
      "text/plain": [
       "{'CONCEPTUAL': '38',\n",
       " 'NAME': 'WATSON CHUA',\n",
       " 'ANALYTICAL': '49',\n",
       " 'STRUCTURAL': '10',\n",
       " 'SOCIAL': '3'}"
      ]
     },
     "execution_count": 23,
     "metadata": {},
     "output_type": "execute_result"
    }
   ],
   "source": [
    "import re\n",
    "attributes = ['CONCEPTUAL', 'ANALYTICAL', 'STRUCTURAL', 'SOCIAL']\n",
    "results = {}\n",
    "for attr in attributes:\n",
    "    value = re.findall(re.escape(attr) + r' = (\\d+)%', text)[0]\n",
    "    results[attr] = value\n",
    "    results['NAME'] = text.split('\\n')[-4].split('-')[0].strip()\n",
    "results"
   ]
  },
  {
   "cell_type": "markdown",
   "metadata": {},
   "source": [
    "## Google Auth"
   ]
  },
  {
   "cell_type": "code",
   "execution_count": 11,
   "metadata": {},
   "outputs": [
    {
     "ename": "HttpError",
     "evalue": "<HttpError 404 when requesting https://www.googleapis.com/drive/v3/files?fields=%2A&corpora=drive&supportsAllDrives=true&driveId=1uoapecGhphu5AF5Lqd5jYhQYGBFO2j6u&includeItemsFromAllDrives=true&alt=json returned \"Shared drive not found: 1uoapecGhphu5AF5Lqd5jYhQYGBFO2j6u\". Details: \"[{'domain': 'global', 'reason': 'notFound', 'message': 'Shared drive not found: 1uoapecGhphu5AF5Lqd5jYhQYGBFO2j6u', 'locationType': 'parameter', 'location': 'driveId'}]\">",
     "output_type": "error",
     "traceback": [
      "\u001b[0;31m---------------------------------------------------------------------------\u001b[0m",
      "\u001b[0;31mHttpError\u001b[0m                                 Traceback (most recent call last)",
      "\u001b[1;32m/home/watsonchua/work/emergenetics_profiles/extract_pdf.ipynb Cell 5\u001b[0m in \u001b[0;36m<cell line: 12>\u001b[0;34m()\u001b[0m\n\u001b[1;32m      <a href='vscode-notebook-cell://wsl%2Bubuntu/home/watsonchua/work/emergenetics_profiles/extract_pdf.ipynb#X10sdnNjb2RlLXJlbW90ZQ%3D%3D?line=8'>9</a>\u001b[0m service \u001b[39m=\u001b[39m build(\u001b[39m'\u001b[39m\u001b[39mdrive\u001b[39m\u001b[39m'\u001b[39m, \u001b[39m'\u001b[39m\u001b[39mv3\u001b[39m\u001b[39m'\u001b[39m, credentials\u001b[39m=\u001b[39mcredentials)\n\u001b[1;32m     <a href='vscode-notebook-cell://wsl%2Bubuntu/home/watsonchua/work/emergenetics_profiles/extract_pdf.ipynb#X10sdnNjb2RlLXJlbW90ZQ%3D%3D?line=10'>11</a>\u001b[0m \u001b[39m# Call the Drive v3 API\u001b[39;00m\n\u001b[0;32m---> <a href='vscode-notebook-cell://wsl%2Bubuntu/home/watsonchua/work/emergenetics_profiles/extract_pdf.ipynb#X10sdnNjb2RlLXJlbW90ZQ%3D%3D?line=11'>12</a>\u001b[0m results \u001b[39m=\u001b[39m service\u001b[39m.\u001b[39;49mfiles()\u001b[39m.\u001b[39;49mlist(\n\u001b[1;32m     <a href='vscode-notebook-cell://wsl%2Bubuntu/home/watsonchua/work/emergenetics_profiles/extract_pdf.ipynb#X10sdnNjb2RlLXJlbW90ZQ%3D%3D?line=12'>13</a>\u001b[0m     fields\u001b[39m=\u001b[39;49m\u001b[39m\"\u001b[39;49m\u001b[39m*\u001b[39;49m\u001b[39m\"\u001b[39;49m,corpora \u001b[39m=\u001b[39;49m \u001b[39m'\u001b[39;49m\u001b[39mdrive\u001b[39;49m\u001b[39m'\u001b[39;49m,supportsAllDrives \u001b[39m=\u001b[39;49m \u001b[39mTrue\u001b[39;49;00m, driveId \u001b[39m=\u001b[39;49m \u001b[39m\"\u001b[39;49m\u001b[39m1uoapecGhphu5AF5Lqd5jYhQYGBFO2j6u\u001b[39;49m\u001b[39m\"\u001b[39;49m, includeItemsFromAllDrives \u001b[39m=\u001b[39;49m \u001b[39mTrue\u001b[39;49;00m)\u001b[39m.\u001b[39;49mexecute()\n\u001b[1;32m     <a href='vscode-notebook-cell://wsl%2Bubuntu/home/watsonchua/work/emergenetics_profiles/extract_pdf.ipynb#X10sdnNjb2RlLXJlbW90ZQ%3D%3D?line=13'>14</a>\u001b[0m items \u001b[39m=\u001b[39m results\u001b[39m.\u001b[39mget(\u001b[39m'\u001b[39m\u001b[39mfiles\u001b[39m\u001b[39m'\u001b[39m, [])\n\u001b[1;32m     <a href='vscode-notebook-cell://wsl%2Bubuntu/home/watsonchua/work/emergenetics_profiles/extract_pdf.ipynb#X10sdnNjb2RlLXJlbW90ZQ%3D%3D?line=15'>16</a>\u001b[0m \u001b[39mif\u001b[39;00m \u001b[39mnot\u001b[39;00m items:\n",
      "File \u001b[0;32m~/.local/lib/python3.8/site-packages/googleapiclient/_helpers.py:130\u001b[0m, in \u001b[0;36mpositional.<locals>.positional_decorator.<locals>.positional_wrapper\u001b[0;34m(*args, **kwargs)\u001b[0m\n\u001b[1;32m    128\u001b[0m     \u001b[39melif\u001b[39;00m positional_parameters_enforcement \u001b[39m==\u001b[39m POSITIONAL_WARNING:\n\u001b[1;32m    129\u001b[0m         logger\u001b[39m.\u001b[39mwarning(message)\n\u001b[0;32m--> 130\u001b[0m \u001b[39mreturn\u001b[39;00m wrapped(\u001b[39m*\u001b[39;49margs, \u001b[39m*\u001b[39;49m\u001b[39m*\u001b[39;49mkwargs)\n",
      "File \u001b[0;32m~/.local/lib/python3.8/site-packages/googleapiclient/http.py:938\u001b[0m, in \u001b[0;36mHttpRequest.execute\u001b[0;34m(self, http, num_retries)\u001b[0m\n\u001b[1;32m    936\u001b[0m     callback(resp)\n\u001b[1;32m    937\u001b[0m \u001b[39mif\u001b[39;00m resp\u001b[39m.\u001b[39mstatus \u001b[39m>\u001b[39m\u001b[39m=\u001b[39m \u001b[39m300\u001b[39m:\n\u001b[0;32m--> 938\u001b[0m     \u001b[39mraise\u001b[39;00m HttpError(resp, content, uri\u001b[39m=\u001b[39m\u001b[39mself\u001b[39m\u001b[39m.\u001b[39muri)\n\u001b[1;32m    939\u001b[0m \u001b[39mreturn\u001b[39;00m \u001b[39mself\u001b[39m\u001b[39m.\u001b[39mpostproc(resp, content)\n",
      "\u001b[0;31mHttpError\u001b[0m: <HttpError 404 when requesting https://www.googleapis.com/drive/v3/files?fields=%2A&corpora=drive&supportsAllDrives=true&driveId=1uoapecGhphu5AF5Lqd5jYhQYGBFO2j6u&includeItemsFromAllDrives=true&alt=json returned \"Shared drive not found: 1uoapecGhphu5AF5Lqd5jYhQYGBFO2j6u\". Details: \"[{'domain': 'global', 'reason': 'notFound', 'message': 'Shared drive not found: 1uoapecGhphu5AF5Lqd5jYhQYGBFO2j6u', 'locationType': 'parameter', 'location': 'driveId'}]\">"
     ]
    }
   ],
   "source": [
    "from googleapiclient.discovery import build\n",
    "from oauth2client.service_account import ServiceAccountCredentials\n",
    "\n",
    "scope = ['https://www.googleapis.com/auth/drive.readonly']\n",
    "\n",
    "credentials = ServiceAccountCredentials.from_json_keyfile_name('gdrive-access-368306-1d07a7f84034.json', scope)\n",
    "\n",
    "# https://developers.google.com/drive/api/v3/quickstart/python\n",
    "service = build('drive', 'v3', credentials=credentials)\n",
    "\n",
    "# Call the Drive v3 API\n",
    "results = service.files().list(\n",
    "    fields=\"*\",corpora = 'drive',supportsAllDrives = True, driveId = \"1uoapecGhphu5AF5Lqd5jYhQYGBFO2j6u\", includeItemsFromAllDrives = True).execute()\n",
    "items = results.get('files', [])\n",
    "\n",
    "if not items:\n",
    "    print('No files found.')\n",
    "else:\n",
    "    print('Files:')\n",
    "    for item in items:\n",
    "        print(u'{0} ({1})'.format(item['name'], item['id']))"
   ]
  },
  {
   "cell_type": "code",
   "execution_count": 7,
   "metadata": {},
   "outputs": [],
   "source": [
    "res = service.drives()"
   ]
  },
  {
   "cell_type": "code",
   "execution_count": 10,
   "metadata": {},
   "outputs": [
    {
     "data": {
      "text/plain": [
       "<googleapiclient.discovery.Resource at 0x7fb07cc29a90>"
      ]
     },
     "execution_count": 10,
     "metadata": {},
     "output_type": "execute_result"
    }
   ],
   "source": [
    "res"
   ]
  },
  {
   "cell_type": "code",
   "execution_count": null,
   "metadata": {},
   "outputs": [],
   "source": []
  }
 ],
 "metadata": {
  "kernelspec": {
   "display_name": "Python 3.8.10 64-bit",
   "language": "python",
   "name": "python3"
  },
  "language_info": {
   "codemirror_mode": {
    "name": "ipython",
    "version": 3
   },
   "file_extension": ".py",
   "mimetype": "text/x-python",
   "name": "python",
   "nbconvert_exporter": "python",
   "pygments_lexer": "ipython3",
   "version": "3.8.10"
  },
  "orig_nbformat": 4,
  "vscode": {
   "interpreter": {
    "hash": "916dbcbb3f70747c44a77c7bcd40155683ae19c65e1c03b4aa3499c5328201f1"
   }
  }
 },
 "nbformat": 4,
 "nbformat_minor": 2
}
