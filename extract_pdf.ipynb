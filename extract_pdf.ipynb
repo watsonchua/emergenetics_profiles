{
 "cells": [
  {
   "cell_type": "code",
   "execution_count": 21,
   "metadata": {},
   "outputs": [],
   "source": [
    "import PyPDF2\n",
    "\n",
    "with open('./AIPF Emergenetics Profile/Profile_Narrative_Watson_Chua.pdf', 'rb') as f:\n",
    "    # creating a page object\n",
    "    pdfReader = PyPDF2.PdfFileReader(f)\n",
    "    pageObj = pdfReader.getPage(0)\n",
    "    # extracting text from page\n",
    "    text = pageObj.extractText()"
   ]
  },
  {
   "cell_type": "code",
   "execution_count": 22,
   "metadata": {},
   "outputs": [
    {
     "data": {
      "text/plain": [
       "'HOW YOU THINK : PERCENTAGESHow you Think: Percentiles How you Behave: Percentiles\\nGeneral Population   0          10         20          30         40         50          60         70         80          90         100Quiet              Introspective                Reserved               Talkative             Gregarious\\nPeacekeeping           Easygoing             Competitive             Forceful               Driving\\nFocused           Firm           Adaptable          Accommodating          Welcomes ChangeStructural\\nSocial\\nConceptual\\nExpressiveness\\nAssertiveness 19\\n 5\\n 69CONCEPTUAL = 38% ANALYTICAL = 49%\\nSTRUCTURAL = 10%Imaginative\\nIntuitive about ideas\\nVisionary\\nEnjoys the unusual\\nLearns by experimenting\\nSOCIAL = 3%\\nHOW YOU COMPARE TO THE GENERAL POPULATIONClear thinker\\nLogical problem solver\\nData driven\\nRational\\nLearns by mental analysis\\nPractical thinker\\nLikes guidelines\\nCautious of new ideas\\nPredictable\\nLearns by doingRelational\\nIntuitive about people\\nSocially aware\\nEmpathic\\nLearns from others\\nWATSON CHUA - OCTOBER 31, 2022\\nGeil Browning, Ph.D. / Wendell Williams , Ph.D.FlexibilityAnalytical  91\\nEMERGENETICS | PROFILE \\n2022 Emergenetics, LLC, 1991, '"
      ]
     },
     "execution_count": 22,
     "metadata": {},
     "output_type": "execute_result"
    }
   ],
   "source": [
    "text"
   ]
  },
  {
   "cell_type": "code",
   "execution_count": 28,
   "metadata": {},
   "outputs": [],
   "source": [
    "import re\n",
    "def extract_content_from_profile(profile):\n",
    "    attributes = ['CONCEPTUAL', 'ANALYTICAL', 'STRUCTURAL', 'SOCIAL']\n",
    "    results = {}\n",
    "    for attr in attributes:\n",
    "        value = re.findall(re.escape(attr) + r' = (\\d+)%', text)[0]\n",
    "        results[attr] = value\n",
    "        results['NAME'] = text.split('\\n')[-4].split('-')[0].strip()\n",
    "    return results\n",
    "\n"
   ]
  },
  {
   "cell_type": "code",
   "execution_count": 29,
   "metadata": {},
   "outputs": [
    {
     "name": "stderr",
     "output_type": "stream",
     "text": [
      "Xref table not zero-indexed. ID numbers for objects will be corrected.\n"
     ]
    },
    {
     "data": {
      "text/plain": [
       "[{'CONCEPTUAL': '34',\n",
       "  'NAME': 'LU LI',\n",
       "  'ANALYTICAL': '54',\n",
       "  'STRUCTURAL': '9',\n",
       "  'SOCIAL': '3'},\n",
       " {'CONCEPTUAL': '31',\n",
       "  'NAME': 'AMELIA LEE',\n",
       "  'ANALYTICAL': '42',\n",
       "  'STRUCTURAL': '24',\n",
       "  'SOCIAL': '3'},\n",
       " {'CONCEPTUAL': '22',\n",
       "  'NAME': 'WEIGUANG CHEN',\n",
       "  'ANALYTICAL': '38',\n",
       "  'STRUCTURAL': '35',\n",
       "  'SOCIAL': '5'},\n",
       " {'CONCEPTUAL': '10',\n",
       "  'NAME': 'JEFFREY LONAN',\n",
       "  'ANALYTICAL': '33',\n",
       "  'STRUCTURAL': '49',\n",
       "  'SOCIAL': '8'},\n",
       " {'CONCEPTUAL': '34',\n",
       "  'NAME': 'PEK KUAN NG',\n",
       "  'ANALYTICAL': '37',\n",
       "  'STRUCTURAL': '13',\n",
       "  'SOCIAL': '16'},\n",
       " {'CONCEPTUAL': '7',\n",
       "  'NAME': 'WENJIE BOON',\n",
       "  'ANALYTICAL': '23',\n",
       "  'STRUCTURAL': '31',\n",
       "  'SOCIAL': '39'},\n",
       " {'CONCEPTUAL': '3',\n",
       "  'NAME': 'SULAIMAN ALWIE',\n",
       "  'ANALYTICAL': '39',\n",
       "  'STRUCTURAL': '42',\n",
       "  'SOCIAL': '15'},\n",
       " {'CONCEPTUAL': '15',\n",
       "  'NAME': 'JING HAN',\n",
       "  'ANALYTICAL': '36',\n",
       "  'STRUCTURAL': '22',\n",
       "  'SOCIAL': '28'},\n",
       " {'CONCEPTUAL': '38',\n",
       "  'NAME': 'WATSON CHUA',\n",
       "  'ANALYTICAL': '49',\n",
       "  'STRUCTURAL': '10',\n",
       "  'SOCIAL': '3'},\n",
       " {'CONCEPTUAL': '39',\n",
       "  'NAME': 'BECCA QIU',\n",
       "  'ANALYTICAL': '44',\n",
       "  'STRUCTURAL': '10',\n",
       "  'SOCIAL': '7'},\n",
       " {'CONCEPTUAL': '16',\n",
       "  'NAME': 'VICTOR LOH',\n",
       "  'ANALYTICAL': '42',\n",
       "  'STRUCTURAL': '10',\n",
       "  'SOCIAL': '31'},\n",
       " {'CONCEPTUAL': '45',\n",
       "  'NAME': 'WOON PENG GOH',\n",
       "  'ANALYTICAL': '45',\n",
       "  'STRUCTURAL': '7',\n",
       "  'SOCIAL': '3'},\n",
       " {'CONCEPTUAL': '13',\n",
       "  'NAME': 'JIEW PENG LIM',\n",
       "  'ANALYTICAL': '45',\n",
       "  'STRUCTURAL': '38',\n",
       "  'SOCIAL': '3'},\n",
       " {'CONCEPTUAL': '29',\n",
       "  'NAME': 'RYAN FONG',\n",
       "  'ANALYTICAL': '26',\n",
       "  'STRUCTURAL': '31',\n",
       "  'SOCIAL': '14'},\n",
       " {'CONCEPTUAL': '11',\n",
       "  'NAME': 'JOEL FOO',\n",
       "  'ANALYTICAL': '45',\n",
       "  'STRUCTURAL': '18',\n",
       "  'SOCIAL': '25'},\n",
       " {'CONCEPTUAL': '34',\n",
       "  'NAME': 'ESTHER GAO',\n",
       "  'ANALYTICAL': '36',\n",
       "  'STRUCTURAL': '14',\n",
       "  'SOCIAL': '17'},\n",
       " {'CONCEPTUAL': '30',\n",
       "  'NAME': 'ZIXIANG NG',\n",
       "  'ANALYTICAL': '30',\n",
       "  'STRUCTURAL': '12',\n",
       "  'SOCIAL': '28'},\n",
       " {'CONCEPTUAL': '31',\n",
       "  'NAME': 'CHII YEH CHIN',\n",
       "  'ANALYTICAL': '36',\n",
       "  'STRUCTURAL': '25',\n",
       "  'SOCIAL': '8'},\n",
       " {'CONCEPTUAL': '45',\n",
       "  'NAME': 'ALVINA GOH',\n",
       "  'ANALYTICAL': '48',\n",
       "  'STRUCTURAL': '4',\n",
       "  'SOCIAL': '3'},\n",
       " {'CONCEPTUAL': '26',\n",
       "  'NAME': 'ALVIN SHI JIIN NG',\n",
       "  'ANALYTICAL': '39',\n",
       "  'STRUCTURAL': '7',\n",
       "  'SOCIAL': '28'},\n",
       " {'CONCEPTUAL': '40',\n",
       "  'NAME': 'SHANGRU NG',\n",
       "  'ANALYTICAL': '39',\n",
       "  'STRUCTURAL': '18',\n",
       "  'SOCIAL': '2'}]"
      ]
     },
     "execution_count": 29,
     "metadata": {},
     "output_type": "execute_result"
    }
   ],
   "source": [
    "from glob import glob\n",
    "all_profiles = []\n",
    "filepaths = glob('./AIPF Emergenetics Profile/*.pdf')\n",
    "for fp in filepaths:\n",
    "    with open(fp, 'rb') as f:\n",
    "        pdfReader = PyPDF2.PdfFileReader(f)\n",
    "        pageObj = pdfReader.getPage(0)\n",
    "        text = pageObj.extractText()\n",
    "        if not text.startswith('HOW YOU THINK'):\n",
    "            print(text)\n",
    "            continue\n",
    "        profile = extract_content_from_profile(text)\n",
    "        all_profiles.append(profile)\n",
    "all_profiles"
   ]
  },
  {
   "cell_type": "code",
   "execution_count": 36,
   "metadata": {},
   "outputs": [],
   "source": [
    "import pandas as pd\n",
    "df_profiles = pd.DataFrame(all_profiles)"
   ]
  },
  {
   "cell_type": "code",
   "execution_count": 38,
   "metadata": {},
   "outputs": [
    {
     "data": {
      "text/html": [
       "<div>\n",
       "<style scoped>\n",
       "    .dataframe tbody tr th:only-of-type {\n",
       "        vertical-align: middle;\n",
       "    }\n",
       "\n",
       "    .dataframe tbody tr th {\n",
       "        vertical-align: top;\n",
       "    }\n",
       "\n",
       "    .dataframe thead th {\n",
       "        text-align: right;\n",
       "    }\n",
       "</style>\n",
       "<table border=\"1\" class=\"dataframe\">\n",
       "  <thead>\n",
       "    <tr style=\"text-align: right;\">\n",
       "      <th></th>\n",
       "      <th>CONCEPTUAL</th>\n",
       "      <th>NAME</th>\n",
       "      <th>ANALYTICAL</th>\n",
       "      <th>STRUCTURAL</th>\n",
       "      <th>SOCIAL</th>\n",
       "    </tr>\n",
       "  </thead>\n",
       "  <tbody>\n",
       "    <tr>\n",
       "      <th>8</th>\n",
       "      <td>38</td>\n",
       "      <td>WATSON CHUA</td>\n",
       "      <td>49</td>\n",
       "      <td>10</td>\n",
       "      <td>3</td>\n",
       "    </tr>\n",
       "  </tbody>\n",
       "</table>\n",
       "</div>"
      ],
      "text/plain": [
       "  CONCEPTUAL         NAME ANALYTICAL STRUCTURAL SOCIAL\n",
       "8         38  WATSON CHUA         49         10      3"
      ]
     },
     "execution_count": 38,
     "metadata": {},
     "output_type": "execute_result"
    }
   ],
   "source": [
    "df_profiles.loc[df_profiles['NAME']=='WATSON CHUA']"
   ]
  },
  {
   "cell_type": "code",
   "execution_count": 39,
   "metadata": {},
   "outputs": [],
   "source": [
    "df_profiles.to_csv('profile.csv', index=False)"
   ]
  },
  {
   "cell_type": "markdown",
   "metadata": {},
   "source": [
    "## Google Auth"
   ]
  },
  {
   "cell_type": "code",
   "execution_count": 11,
   "metadata": {},
   "outputs": [
    {
     "ename": "HttpError",
     "evalue": "<HttpError 404 when requesting https://www.googleapis.com/drive/v3/files?fields=%2A&corpora=drive&supportsAllDrives=true&driveId=1uoapecGhphu5AF5Lqd5jYhQYGBFO2j6u&includeItemsFromAllDrives=true&alt=json returned \"Shared drive not found: 1uoapecGhphu5AF5Lqd5jYhQYGBFO2j6u\". Details: \"[{'domain': 'global', 'reason': 'notFound', 'message': 'Shared drive not found: 1uoapecGhphu5AF5Lqd5jYhQYGBFO2j6u', 'locationType': 'parameter', 'location': 'driveId'}]\">",
     "output_type": "error",
     "traceback": [
      "\u001b[0;31m---------------------------------------------------------------------------\u001b[0m",
      "\u001b[0;31mHttpError\u001b[0m                                 Traceback (most recent call last)",
      "\u001b[1;32m/home/watsonchua/work/emergenetics_profiles/extract_pdf.ipynb Cell 5\u001b[0m in \u001b[0;36m<cell line: 12>\u001b[0;34m()\u001b[0m\n\u001b[1;32m      <a href='vscode-notebook-cell://wsl%2Bubuntu/home/watsonchua/work/emergenetics_profiles/extract_pdf.ipynb#X10sdnNjb2RlLXJlbW90ZQ%3D%3D?line=8'>9</a>\u001b[0m service \u001b[39m=\u001b[39m build(\u001b[39m'\u001b[39m\u001b[39mdrive\u001b[39m\u001b[39m'\u001b[39m, \u001b[39m'\u001b[39m\u001b[39mv3\u001b[39m\u001b[39m'\u001b[39m, credentials\u001b[39m=\u001b[39mcredentials)\n\u001b[1;32m     <a href='vscode-notebook-cell://wsl%2Bubuntu/home/watsonchua/work/emergenetics_profiles/extract_pdf.ipynb#X10sdnNjb2RlLXJlbW90ZQ%3D%3D?line=10'>11</a>\u001b[0m \u001b[39m# Call the Drive v3 API\u001b[39;00m\n\u001b[0;32m---> <a href='vscode-notebook-cell://wsl%2Bubuntu/home/watsonchua/work/emergenetics_profiles/extract_pdf.ipynb#X10sdnNjb2RlLXJlbW90ZQ%3D%3D?line=11'>12</a>\u001b[0m results \u001b[39m=\u001b[39m service\u001b[39m.\u001b[39;49mfiles()\u001b[39m.\u001b[39;49mlist(\n\u001b[1;32m     <a href='vscode-notebook-cell://wsl%2Bubuntu/home/watsonchua/work/emergenetics_profiles/extract_pdf.ipynb#X10sdnNjb2RlLXJlbW90ZQ%3D%3D?line=12'>13</a>\u001b[0m     fields\u001b[39m=\u001b[39;49m\u001b[39m\"\u001b[39;49m\u001b[39m*\u001b[39;49m\u001b[39m\"\u001b[39;49m,corpora \u001b[39m=\u001b[39;49m \u001b[39m'\u001b[39;49m\u001b[39mdrive\u001b[39;49m\u001b[39m'\u001b[39;49m,supportsAllDrives \u001b[39m=\u001b[39;49m \u001b[39mTrue\u001b[39;49;00m, driveId \u001b[39m=\u001b[39;49m \u001b[39m\"\u001b[39;49m\u001b[39m1uoapecGhphu5AF5Lqd5jYhQYGBFO2j6u\u001b[39;49m\u001b[39m\"\u001b[39;49m, includeItemsFromAllDrives \u001b[39m=\u001b[39;49m \u001b[39mTrue\u001b[39;49;00m)\u001b[39m.\u001b[39;49mexecute()\n\u001b[1;32m     <a href='vscode-notebook-cell://wsl%2Bubuntu/home/watsonchua/work/emergenetics_profiles/extract_pdf.ipynb#X10sdnNjb2RlLXJlbW90ZQ%3D%3D?line=13'>14</a>\u001b[0m items \u001b[39m=\u001b[39m results\u001b[39m.\u001b[39mget(\u001b[39m'\u001b[39m\u001b[39mfiles\u001b[39m\u001b[39m'\u001b[39m, [])\n\u001b[1;32m     <a href='vscode-notebook-cell://wsl%2Bubuntu/home/watsonchua/work/emergenetics_profiles/extract_pdf.ipynb#X10sdnNjb2RlLXJlbW90ZQ%3D%3D?line=15'>16</a>\u001b[0m \u001b[39mif\u001b[39;00m \u001b[39mnot\u001b[39;00m items:\n",
      "File \u001b[0;32m~/.local/lib/python3.8/site-packages/googleapiclient/_helpers.py:130\u001b[0m, in \u001b[0;36mpositional.<locals>.positional_decorator.<locals>.positional_wrapper\u001b[0;34m(*args, **kwargs)\u001b[0m\n\u001b[1;32m    128\u001b[0m     \u001b[39melif\u001b[39;00m positional_parameters_enforcement \u001b[39m==\u001b[39m POSITIONAL_WARNING:\n\u001b[1;32m    129\u001b[0m         logger\u001b[39m.\u001b[39mwarning(message)\n\u001b[0;32m--> 130\u001b[0m \u001b[39mreturn\u001b[39;00m wrapped(\u001b[39m*\u001b[39;49margs, \u001b[39m*\u001b[39;49m\u001b[39m*\u001b[39;49mkwargs)\n",
      "File \u001b[0;32m~/.local/lib/python3.8/site-packages/googleapiclient/http.py:938\u001b[0m, in \u001b[0;36mHttpRequest.execute\u001b[0;34m(self, http, num_retries)\u001b[0m\n\u001b[1;32m    936\u001b[0m     callback(resp)\n\u001b[1;32m    937\u001b[0m \u001b[39mif\u001b[39;00m resp\u001b[39m.\u001b[39mstatus \u001b[39m>\u001b[39m\u001b[39m=\u001b[39m \u001b[39m300\u001b[39m:\n\u001b[0;32m--> 938\u001b[0m     \u001b[39mraise\u001b[39;00m HttpError(resp, content, uri\u001b[39m=\u001b[39m\u001b[39mself\u001b[39m\u001b[39m.\u001b[39muri)\n\u001b[1;32m    939\u001b[0m \u001b[39mreturn\u001b[39;00m \u001b[39mself\u001b[39m\u001b[39m.\u001b[39mpostproc(resp, content)\n",
      "\u001b[0;31mHttpError\u001b[0m: <HttpError 404 when requesting https://www.googleapis.com/drive/v3/files?fields=%2A&corpora=drive&supportsAllDrives=true&driveId=1uoapecGhphu5AF5Lqd5jYhQYGBFO2j6u&includeItemsFromAllDrives=true&alt=json returned \"Shared drive not found: 1uoapecGhphu5AF5Lqd5jYhQYGBFO2j6u\". Details: \"[{'domain': 'global', 'reason': 'notFound', 'message': 'Shared drive not found: 1uoapecGhphu5AF5Lqd5jYhQYGBFO2j6u', 'locationType': 'parameter', 'location': 'driveId'}]\">"
     ]
    }
   ],
   "source": [
    "from googleapiclient.discovery import build\n",
    "from oauth2client.service_account import ServiceAccountCredentials\n",
    "\n",
    "scope = ['https://www.googleapis.com/auth/drive.readonly']\n",
    "\n",
    "credentials = ServiceAccountCredentials.from_json_keyfile_name('gdrive-access-368306-1d07a7f84034.json', scope)\n",
    "\n",
    "# https://developers.google.com/drive/api/v3/quickstart/python\n",
    "service = build('drive', 'v3', credentials=credentials)\n",
    "\n",
    "# Call the Drive v3 API\n",
    "results = service.files().list(\n",
    "    fields=\"*\",corpora = 'drive',supportsAllDrives = True, driveId = \"1uoapecGhphu5AF5Lqd5jYhQYGBFO2j6u\", includeItemsFromAllDrives = True).execute()\n",
    "items = results.get('files', [])\n",
    "\n",
    "if not items:\n",
    "    print('No files found.')\n",
    "else:\n",
    "    print('Files:')\n",
    "    for item in items:\n",
    "        print(u'{0} ({1})'.format(item['name'], item['id']))"
   ]
  },
  {
   "cell_type": "code",
   "execution_count": 7,
   "metadata": {},
   "outputs": [],
   "source": [
    "res = service.drives()"
   ]
  },
  {
   "cell_type": "code",
   "execution_count": 10,
   "metadata": {},
   "outputs": [
    {
     "data": {
      "text/plain": [
       "<googleapiclient.discovery.Resource at 0x7fb07cc29a90>"
      ]
     },
     "execution_count": 10,
     "metadata": {},
     "output_type": "execute_result"
    }
   ],
   "source": [
    "res"
   ]
  },
  {
   "cell_type": "code",
   "execution_count": 1,
   "metadata": {},
   "outputs": [],
   "source": [
    "# Textract output\n",
    "import json\n",
    "with open('./watson_textract.json', 'r') as f:\n",
    "    data = json.load(f)"
   ]
  },
  {
   "cell_type": "code",
   "execution_count": 8,
   "metadata": {},
   "outputs": [],
   "source": [
    "all_text = []\n",
    "for block in data['Blocks']:\n",
    "    # print(block.keys())\n",
    "    if \"Text\" in block:\n",
    "        all_text.append(block[\"Text\"])\n",
    "        # print(block[\"Text\"])\n",
    "text_str = '\\n'.join(all_text)"
   ]
  },
  {
   "cell_type": "code",
   "execution_count": 9,
   "metadata": {},
   "outputs": [
    {
     "data": {
      "text/plain": [
       "'R\\nEMERGENETICS\\nI\\nPROFILE\\nWATSON CHUA - OCTOBER 31, 2022\\nHOW YOU THINK: PERCENTAGES\\nANALYTICAL = 49%\\nCONCEPTUAL = 38%\\nClear thinker\\nImaginative\\nLogical problem solver\\nIntuitive about ideas\\nData driven\\nVisionary\\nRational\\nEnjoys the unusual\\nLearns by mental analysis\\nLearns by experimenting\\nSTRUCTURAL = 10%\\nSOCIAL = 3%\\nPractical thinker\\nRelational\\nLikes guidelines\\nIntuitive about people\\nCautious of new ideas\\nSocially aware\\nPredictable\\nEmpathic\\nLearns by doing\\nLearns from others\\nHOW YOU COMPARE TO THE GENERAL POPULATION\\nAnalytical\\n91\\nStructural\\n19\\nSocial\\n5\\nConceptual\\n69\\nExpressiveness\\n43\\nQuiet\\nIntrospective\\nReserved\\nTalkative\\nGregarious\\nAssertiveness\\n75\\nPeacekeeping\\nEasygoing\\nCompetitive\\nForceful\\nDriving\\nFlexibility\\n5\\nFocused\\nFirm\\nAdaptable\\nAccommodating\\nWelcomes Change\\nGeneral Population\\n0\\n10\\n20\\n30\\n40\\n50\\n60\\n70\\n80\\n90\\n100\\nC\\nEmergenetics, LLC, 1991, 2022\\nGeil Browning, Ph.D. / Wendell Williams, Ph.D.\\nR\\nEMERGENETICS\\nI\\nPROFILE\\nWATSON\\nCHUA\\n-\\nOCTOBER\\n31,\\n2022\\nHOW\\nYOU\\nTHINK:\\nPERCENTAGES\\nANALYTICAL\\n=\\n49%\\nCONCEPTUAL\\n=\\n38%\\nClear\\nthinker\\nImaginative\\nLogical\\nproblem\\nsolver\\nIntuitive\\nabout\\nideas\\nData\\ndriven\\nVisionary\\nRational\\nEnjoys\\nthe\\nunusual\\nLearns\\nby\\nmental\\nanalysis\\nLearns\\nby\\nexperimenting\\nSTRUCTURAL\\n=\\n10%\\nSOCIAL\\n=\\n3%\\nPractical\\nthinker\\nRelational\\nLikes\\nguidelines\\nIntuitive\\nabout\\npeople\\nCautious\\nof\\nnew\\nideas\\nSocially\\naware\\nPredictable\\nEmpathic\\nLearns\\nby\\ndoing\\nLearns\\nfrom\\nothers\\nHOW\\nYOU\\nCOMPARE\\nTO\\nTHE\\nGENERAL\\nPOPULATION\\nAnalytical\\n91\\nStructural\\n19\\nSocial\\n5\\nConceptual\\n69\\nExpressiveness\\n43\\nQuiet\\nIntrospective\\nReserved\\nTalkative\\nGregarious\\nAssertiveness\\n75\\nPeacekeeping\\nEasygoing\\nCompetitive\\nForceful\\nDriving\\nFlexibility\\n5\\nFocused\\nFirm\\nAdaptable\\nAccommodating\\nWelcomes\\nChange\\nGeneral\\nPopulation\\n0\\n10\\n20\\n30\\n40\\n50\\n60\\n70\\n80\\n90\\n100\\nC\\nEmergenetics,\\nLLC,\\n1991,\\n2022\\nGeil\\nBrowning,\\nPh.D.\\n/\\nWendell\\nWilliams,\\nPh.D.\\nWATSON CHUA\\nEMERGENETICS\\n®\\n®\\nNARRATIVE REPORT\\nAn individualized guide to your Emergenetics Profile\\nTHINKING WITHOUT BOUNDARIES\\nwww.emergenetics.com\\nNorth America\\n|\\nAsia\\nEurope\\nWATSON\\nCHUA\\nEMERGENETICS\\n®\\n®\\nNARRATIVE\\nREPORT\\nAn\\nindividualized\\nguide\\nto\\nyour\\nEmergenetics\\nProfile\\nTHINKING\\nWITHOUT\\nBOUNDARIES\\nwww.emergenetics.com\\nNorth\\nAmerica\\n|\\nAsia\\nEurope\\nR\\n11/9/2022\\nCongratulations, Watson Chua! You are holding in your hands your unique Emergenetics Profile, the key to understanding\\nyour innate strengths. Go with them, and you\\'ll be happier, more satisfied, and more productive.\\nPeople are amazingly complex, and it is difficult to interpret an Emergenetics Profile in just a few pages, so please keep in\\nmind that the following summary is an accurate yet broad description of you. As you read about your unique Emergenetics\\nresults, please remember that they do not reflect your intelligence, or your ability to perform certain tasks. Also, remember\\nthat your Profile is unique, and any result is fine.\\nYour Emergenetics scores are confidential, and we would never share them with anyone without your permission. Whether\\nor not you share your Profile with others is up to you. However, in my experience, people learn a great deal when they share\\ntheir preferences with others.\\nRemember, by understanding and appreciating your Emergenetics preferences, you\\'ll have a more complete knowledge of\\nyourself at home, at work, and throughout your daily life.\\nIf you would like more information about Emergenetics, please read my book Emergenetics: Tap Into the New Science of\\nSuccess, or visit www.emergenetics.com\\nSincerely,\\nGeil Browning, Ph.D.\\nFounder and CEO\\nEmergenetics International\\nUNDERSTANDING YOUR EMERGENETICS PROFILE\\nEmergenetics: The Science of Identifying Your Individual Preferences\\nEmergenetics is a combination of characteristics that emerge from your life experiences, plus the genetics with which you\\nwere born. We have scientifically determined that each individual\\'s temperament can be described in terms of three\\nBehavioral Attributes and four Thinking Attributes. Each of your attributes is shown along a spectrum. Whether you are at\\none end of the spectrum for an attribute or the other - or in the middle - you are perfect the way you are!\\nOne of the exciting aspects of Emergenetics is that it allows for infinite variations among different people. The seven\\nBehavioral and Thinking attributes can be mixed and matched at different levels to accurately describe anyone.\\nYou are able to use all the Behavioral and Thinking Attributes, but some of them come more naturally to you than others.\\nEveryone has a natural comfort level with each attribute that is reflected in her or his Emergenetics Profile. It is possible to\\n\"stretch\" attributes like a rubber band when necessary, but operating outside your comfort level takes more energy and will\\ntire you out more quickly.\\nR\\n11/9/2022\\nCongratulations,\\nWatson\\nChua!\\nYou\\nare\\nholding\\nin\\nyour\\nhands\\nyour\\nunique\\nEmergenetics\\nProfile,\\nthe\\nkey\\nto\\nunderstanding\\nyour\\ninnate\\nstrengths.\\nGo\\nwith\\nthem,\\nand\\nyou\\'ll\\nbe\\nhappier,\\nmore\\nsatisfied,\\nand\\nmore\\nproductive.\\nPeople\\nare\\namazingly\\ncomplex,\\nand\\nit\\nis\\ndifficult\\nto\\ninterpret\\nan\\nEmergenetics\\nProfile\\nin\\njust\\na\\nfew\\npages,\\nso\\nplease\\nkeep\\nin\\nmind\\nthat\\nthe\\nfollowing\\nsummary\\nis\\nan\\naccurate\\nyet\\nbroad\\ndescription\\nof\\nyou.\\nAs\\nyou\\nread\\nabout\\nyour\\nunique\\nEmergenetics\\nresults,\\nplease\\nremember\\nthat\\nthey\\ndo\\nnot\\nreflect\\nyour\\nintelligence,\\nor\\nyour\\nability\\nto\\nperform\\ncertain\\ntasks.\\nAlso,\\nremember\\nthat\\nyour\\nProfile\\nis\\nunique,\\nand\\nany\\nresult\\nis\\nfine.\\nYour\\nEmergenetics\\nscores\\nare\\nconfidential,\\nand\\nwe\\nwould\\nnever\\nshare\\nthem\\nwith\\nanyone\\nwithout\\nyour\\npermission.\\nWhether\\nor\\nnot\\nyou\\nshare\\nyour\\nProfile\\nwith\\nothers\\nis\\nup\\nto\\nyou.\\nHowever,\\nin\\nmy\\nexperience,\\npeople\\nlearn\\na\\ngreat\\ndeal\\nwhen\\nthey\\nshare\\ntheir\\npreferences\\nwith\\nothers.\\nRemember,\\nby\\nunderstanding\\nand\\nappreciating\\nyour\\nEmergenetics\\npreferences,\\nyou\\'ll\\nhave\\na\\nmore\\ncomplete\\nknowledge\\nof\\nyourself\\nat\\nhome,\\nat\\nwork,\\nand\\nthroughout\\nyour\\ndaily\\nlife.\\nIf\\nyou\\nwould\\nlike\\nmore\\ninformation\\nabout\\nEmergenetics,\\nplease\\nread\\nmy\\nbook\\nEmergenetics:\\nTap\\nInto\\nthe\\nNew\\nScience\\nof\\nSuccess,\\nor\\nvisit\\nwww.emergenetics.com\\nSincerely,\\nGeil\\nBrowning,\\nPh.D.\\nFounder\\nand\\nCEO\\nEmergenetics\\nInternational\\nUNDERSTANDING\\nYOUR\\nEMERGENETICS\\nPROFILE\\nEmergenetics:\\nThe\\nScience\\nof\\nIdentifying\\nYour\\nIndividual\\nPreferences\\nEmergenetics\\nis\\na\\ncombination\\nof\\ncharacteristics\\nthat\\nemerge\\nfrom\\nyour\\nlife\\nexperiences,\\nplus\\nthe\\ngenetics\\nwith\\nwhich\\nyou\\nwere\\nborn.\\nWe\\nhave\\nscientifically\\ndetermined\\nthat\\neach\\nindividual\\'s\\ntemperament\\ncan\\nbe\\ndescribed\\nin\\nterms\\nof\\nthree\\nBehavioral\\nAttributes\\nand\\nfour\\nThinking\\nAttributes.\\nEach\\nof\\nyour\\nattributes\\nis\\nshown\\nalong\\na\\nspectrum.\\nWhether\\nyou\\nare\\nat\\none\\nend\\nof\\nthe\\nspectrum\\nfor\\nan\\nattribute\\nor\\nthe\\nother\\n-\\nor\\nin\\nthe\\nmiddle\\n-\\nyou\\nare\\nperfect\\nthe\\nway\\nyou\\nare!\\nOne\\nof\\nthe\\nexciting\\naspects\\nof\\nEmergenetics\\nis\\nthat\\nit\\nallows\\nfor\\ninfinite\\nvariations\\namong\\ndifferent\\npeople.\\nThe\\nseven\\nBehavioral\\nand\\nThinking\\nattributes\\ncan\\nbe\\nmixed\\nand\\nmatched\\nat\\ndifferent\\nlevels\\nto\\naccurately\\ndescribe\\nanyone.\\nYou\\nare\\nable\\nto\\nuse\\nall\\nthe\\nBehavioral\\nand\\nThinking\\nAttributes,\\nbut\\nsome\\nof\\nthem\\ncome\\nmore\\nnaturally\\nto\\nyou\\nthan\\nothers.\\nEveryone\\nhas\\na\\nnatural\\ncomfort\\nlevel\\nwith\\neach\\nattribute\\nthat\\nis\\nreflected\\nin\\nher\\nor\\nhis\\nEmergenetics\\nProfile.\\nIt\\nis\\npossible\\nto\\n\"stretch\"\\nattributes\\nlike\\na\\nrubber\\nband\\nwhen\\nnecessary,\\nbut\\noperating\\noutside\\nyour\\ncomfort\\nlevel\\ntakes\\nmore\\nenergy\\nand\\nwill\\ntire\\nyou\\nout\\nmore\\nquickly.\\nTHE EMERGENETICS ATTRIBUTES DEFINED\\nThe Behavioral Attributes\\namount of energy you invest in expressing your thoughts,\\nfeelings and beliefs. People who are at the peacekeeping\\nThe Behavioral Attributes are what people see first about\\nend of the spectrum for Assertiveness will wait patiently and\\nyou.\\npolitely for an elevator. They are considered amiable,\\ndeliberate, and diplomatic. On the other hand, people who\\nExpressiveness is your level of participation in social\\nare at the telling end of the spectrum for Assertiveness push\\nsituations. Your degree of Expressiveness indicates how\\nthe elevator button repeatedly, as if that will make it come\\nmuch interest you show in others and in the world around\\nfaster. They are considered competitive, forceful, and tough.\\nyou. Expressiveness is sharing what you are experiencing on\\nThey are ready for action, and prefer a fast pace.\\nthe inside with the outside world. People who are at the\\nquiet end of the spectrum for Expressiveness will sit\\nFlexibility measures your willingness to accommodate the\\nsedately in a meeting, and listen more than they talk. They\\nthoughts and actions of others. Your degree of Flexibility\\nare considered reserved, pensive, and calm. They avoid the\\nreflects how much you are willing to conform and flex with\\nspotlight, keep their feelings to themselves, and are\\nthe interpersonal needs of others. People who are at the\\nenergized by solitude. People who are at the gregarious end\\nfocused end of the spectrum for Flexibility believe they are\\nof the spectrum for Expressiveness are just the opposite!\\nright and prefer to be in control of others. They are\\nYou can\\'t miss them in a meeting, since they are dynamic,\\nconsidered firm, intent, and absolute. They have strong\\ntalkative, and lively. They are considered outgoing,\\nopinions and prefer to stay on track. At the other end of the\\nanimated, and spontaneous. They seek attention, and are\\nspectrum, people who are at the accommodating end of the\\nenergized by interacting with others.\\nspectrum for Flexibility are receptive, easygoing, and\\nadaptable. They don\\'t mind interruptions, ambiguity, or\\nAssertiveness is your level of interest in controlling tasks\\nchange. They see all points of view, and are accepting of\\nand results. Your degree of Assertiveness reflects the\\nother people\\'s ideas.\\nThe Thinking Attributes\\nPeople can\\'t see the way you think, and what is going on in your head may be very mysterious to them.\\nAnalytical thinking is rational, inquiring, and clear. The Analytical part of the brain wants to see data and research. People\\nwith a preference for Analytical thought are considered logical, cogent, and objective. They can appreciate the scientific\\nmethod, and they learn by mental analysis.\\nStructural thinking is detailed, practical, and methodical. The Structural part of the brain follows rules and is cautious of new\\nideas. People with a preference for Structural thought are considered disciplined, organized, and traditional. They like\\nguidelines, and they learn by doing.\\nSocial thinking is relational, collaborative, empathic, and supportive. The Social part of the brain is team-oriented and\\nsocially aware. People with a preference for Social thought are considered connectors and are sensitive to the feelings and\\nideas of others. They are intuitive about people, and they learn from others.\\nConceptual thinking is imaginative, unconventional, and visionary. The Conceptual part of the brain likes change and is easily\\nbored. People with a preference for Conceptual thought are considered inventive, original, and innovative. They are intuitive\\nabout ideas, and they learn by experimenting.\\nWhen you have a preference for a particular Thinking Attribute, that means it plays a prominent role in your thinking\\nprocesses. 90% of the population has more than one thinking preference.\\nYOUR EMERGENETICS PROFILE\\nThe Emergenetics Profile has three important parts: a bar chart illustrating your Behavioral Attributes, a bar chart\\nillustrating your Thinking Attributes, and a pie chart that compares your Thinking Attributes to each other. Let\\'s take a look\\nat your Profile, and what it says about you.\\nTHE\\nEMERGENETICS\\nATTRIBUTES\\nDEFINED\\nThe\\nBehavioral\\nAttributes\\namount\\nof\\nenergy\\nyou\\ninvest\\nin\\nexpressing\\nyour\\nthoughts,\\nfeelings\\nand\\nbeliefs.\\nPeople\\nwho\\nare\\nat\\nthe\\npeacekeeping\\nThe\\nBehavioral\\nAttributes\\nare\\nwhat\\npeople\\nsee\\nfirst\\nabout\\nend\\nof\\nthe\\nspectrum\\nfor\\nAssertiveness\\nwill\\nwait\\npatiently\\nand\\nyou.\\npolitely\\nfor\\nan\\nelevator.\\nThey\\nare\\nconsidered\\namiable,\\ndeliberate,\\nand\\ndiplomatic.\\nOn\\nthe\\nother\\nhand,\\npeople\\nwho\\nExpressiveness\\nis\\nyour\\nlevel\\nof\\nparticipation\\nin\\nsocial\\nare\\nat\\nthe\\ntelling\\nend\\nof\\nthe\\nspectrum\\nfor\\nAssertiveness\\npush\\nsituations.\\nYour\\ndegree\\nof\\nExpressiveness\\nindicates\\nhow\\nthe\\nelevator\\nbutton\\nrepeatedly,\\nas\\nif\\nthat\\nwill\\nmake\\nit\\ncome\\nmuch\\ninterest\\nyou\\nshow\\nin\\nothers\\nand\\nin\\nthe\\nworld\\naround\\nfaster.\\nThey\\nare\\nconsidered\\ncompetitive,\\nforceful,\\nand\\ntough.\\nyou.\\nExpressiveness\\nis\\nsharing\\nwhat\\nyou\\nare\\nexperiencing\\non\\nThey\\nare\\nready\\nfor\\naction,\\nand\\nprefer\\na\\nfast\\npace.\\nthe\\ninside\\nwith\\nthe\\noutside\\nworld.\\nPeople\\nwho\\nare\\nat\\nthe\\nquiet\\nend\\nof\\nthe\\nspectrum\\nfor\\nExpressiveness\\nwill\\nsit\\nFlexibility\\nmeasures\\nyour\\nwillingness\\nto\\naccommodate\\nthe\\nsedately\\nin\\na\\nmeeting,\\nand\\nlisten\\nmore\\nthan\\nthey\\ntalk.\\nThey\\nthoughts\\nand\\nactions\\nof\\nothers.\\nYour\\ndegree\\nof\\nFlexibility\\nare\\nconsidered\\nreserved,\\npensive,\\nand\\ncalm.\\nThey\\navoid\\nthe\\nreflects\\nhow\\nmuch\\nyou\\nare\\nwilling\\nto\\nconform\\nand\\nflex\\nwith\\nspotlight,\\nkeep\\ntheir\\nfeelings\\nto\\nthemselves,\\nand\\nare\\nthe\\ninterpersonal\\nneeds\\nof\\nothers.\\nPeople\\nwho\\nare\\nat\\nthe\\nenergized\\nby\\nsolitude.\\nPeople\\nwho\\nare\\nat\\nthe\\ngregarious\\nend\\nfocused\\nend\\nof\\nthe\\nspectrum\\nfor\\nFlexibility\\nbelieve\\nthey\\nare\\nof\\nthe\\nspectrum\\nfor\\nExpressiveness\\nare\\njust\\nthe\\nopposite!\\nright\\nand\\nprefer\\nto\\nbe\\nin\\ncontrol\\nof'"
      ]
     },
     "execution_count": 9,
     "metadata": {},
     "output_type": "execute_result"
    }
   ],
   "source": [
    "text_str"
   ]
  },
  {
   "cell_type": "code",
   "execution_count": 12,
   "metadata": {},
   "outputs": [
    {
     "name": "stdout",
     "output_type": "stream",
     "text": [
      "38\n",
      "49\n",
      "10\n",
      "3\n"
     ]
    }
   ],
   "source": [
    "import re\n",
    "attributes = ['CONCEPTUAL', 'ANALYTICAL', 'STRUCTURAL', 'SOCIAL']\n",
    "# results = {}\n",
    "for attr in attributes:\n",
    "    value = re.findall(re.escape(attr) + r' = (\\d+)%', text_str)[0]\n",
    "    print(value)"
   ]
  },
  {
   "cell_type": "code",
   "execution_count": 17,
   "metadata": {},
   "outputs": [
    {
     "data": {
      "text/plain": [
       "('91', '19', '5', '69', '43', '75', '5')"
      ]
     },
     "execution_count": 17,
     "metadata": {},
     "output_type": "execute_result"
    }
   ],
   "source": [
    "percentile_pattern = r\"\\nAnalytical\\n(\\d+)\\nStructural\\n(\\d+)\\nSocial\\n(\\d+)\\nConceptual\\n(\\d+)\\nExpressiveness\\n(\\d+)\\nQuiet\\nIntrospective\\nReserved\\nTalkative\\nGregarious\\nAssertiveness\\n(\\d+)\\nPeacekeeping\\nEasygoing\\nCompetitive\\nForceful\\nDriving\\nFlexibility\\n(\\d+)\"\n",
    "re.findall(percentile_pattern, text_str)[0]"
   ]
  },
  {
   "cell_type": "code",
   "execution_count": null,
   "metadata": {},
   "outputs": [],
   "source": []
  }
 ],
 "metadata": {
  "kernelspec": {
   "display_name": "Python 3.9.15 64-bit",
   "language": "python",
   "name": "python3"
  },
  "language_info": {
   "codemirror_mode": {
    "name": "ipython",
    "version": 3
   },
   "file_extension": ".py",
   "mimetype": "text/x-python",
   "name": "python",
   "nbconvert_exporter": "python",
   "pygments_lexer": "ipython3",
   "version": "3.9.15"
  },
  "orig_nbformat": 4,
  "vscode": {
   "interpreter": {
    "hash": "36cf16204b8548560b1c020c4e8fb5b57f0e4c58016f52f2d4be01e192833930"
   }
  }
 },
 "nbformat": 4,
 "nbformat_minor": 2
}
