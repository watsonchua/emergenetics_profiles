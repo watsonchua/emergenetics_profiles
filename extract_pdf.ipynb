{
 "cells": [
  {
   "cell_type": "code",
   "execution_count": null,
   "metadata": {},
   "outputs": [],
   "source": [
    "import PyPDF2\n",
    "\n",
    "with open('./AIPF Emergenetics Profile/Profile_Narrative_Watson_Chua.pdf', 'rb') as f:\n",
    "    # creating a page object\n",
    "    pdfReader = PyPDF2.PdfFileReader(f)\n",
    "    pageObj = pdfReader.getPage(0)\n",
    "    # extracting text from page\n",
    "    text = pageObj.extractText()"
   ]
  },
  {
   "cell_type": "code",
   "execution_count": null,
   "metadata": {},
   "outputs": [],
   "source": [
    "text"
   ]
  },
  {
   "cell_type": "code",
   "execution_count": null,
   "metadata": {},
   "outputs": [],
   "source": [
    "import re\n",
    "def extract_content_from_profile(profile):\n",
    "    attributes = ['CONCEPTUAL', 'ANALYTICAL', 'STRUCTURAL', 'SOCIAL']\n",
    "    results = {}\n",
    "    for attr in attributes:\n",
    "        value = re.findall(re.escape(attr) + r' = (\\d+)%', text)[0]\n",
    "        results[attr] = value\n",
    "        results['NAME'] = text.split('\\n')[-4].split('-')[0].strip()\n",
    "    return results\n",
    "\n"
   ]
  },
  {
   "cell_type": "code",
   "execution_count": null,
   "metadata": {},
   "outputs": [],
   "source": [
    "from glob import glob\n",
    "all_profiles = []\n",
    "filepaths = glob('./AIPF Emergenetics Profile/*.pdf')\n",
    "for fp in filepaths:\n",
    "    with open(fp, 'rb') as f:\n",
    "        pdfReader = PyPDF2.PdfFileReader(f)\n",
    "        pageObj = pdfReader.getPage(0)\n",
    "        text = pageObj.extractText()\n",
    "        if not text.startswith('HOW YOU THINK'):\n",
    "            print(text)\n",
    "            continue\n",
    "        profile = extract_content_from_profile(text)\n",
    "        all_profiles.append(profile)\n",
    "all_profiles"
   ]
  },
  {
   "cell_type": "code",
   "execution_count": null,
   "metadata": {},
   "outputs": [],
   "source": [
    "import pandas as pd\n",
    "df_profiles = pd.DataFrame(all_profiles)"
   ]
  },
  {
   "cell_type": "code",
   "execution_count": null,
   "metadata": {},
   "outputs": [],
   "source": [
    "df_profiles.loc[df_profiles['NAME']=='WATSON CHUA']"
   ]
  },
  {
   "cell_type": "code",
   "execution_count": null,
   "metadata": {},
   "outputs": [],
   "source": [
    "df_profiles.to_csv('profile.csv', index=False)"
   ]
  },
  {
   "cell_type": "markdown",
   "metadata": {},
   "source": [
    "## Google Auth"
   ]
  },
  {
   "cell_type": "code",
   "execution_count": null,
   "metadata": {},
   "outputs": [],
   "source": [
    "from googleapiclient.discovery import build\n",
    "from oauth2client.service_account import ServiceAccountCredentials\n",
    "\n",
    "scope = ['https://www.googleapis.com/auth/drive.readonly']\n",
    "\n",
    "credentials = ServiceAccountCredentials.from_json_keyfile_name('gdrive-access-368306-1d07a7f84034.json', scope)\n",
    "\n",
    "# https://developers.google.com/drive/api/v3/quickstart/python\n",
    "service = build('drive', 'v3', credentials=credentials)\n",
    "\n",
    "# Call the Drive v3 API\n",
    "results = service.files().list(\n",
    "    fields=\"*\",corpora = 'drive',supportsAllDrives = True, driveId = \"1uoapecGhphu5AF5Lqd5jYhQYGBFO2j6u\", includeItemsFromAllDrives = True).execute()\n",
    "items = results.get('files', [])\n",
    "\n",
    "if not items:\n",
    "    print('No files found.')\n",
    "else:\n",
    "    print('Files:')\n",
    "    for item in items:\n",
    "        print(u'{0} ({1})'.format(item['name'], item['id']))"
   ]
  },
  {
   "cell_type": "code",
   "execution_count": null,
   "metadata": {},
   "outputs": [],
   "source": [
    "res = service.drives()"
   ]
  },
  {
   "cell_type": "code",
   "execution_count": null,
   "metadata": {},
   "outputs": [],
   "source": [
    "res"
   ]
  },
  {
   "cell_type": "code",
   "execution_count": null,
   "metadata": {},
   "outputs": [],
   "source": [
    "# Textract output\n",
    "import json\n",
    "with open('./watson_textract.json', 'r') as f:\n",
    "    data = json.load(f)"
   ]
  },
  {
   "cell_type": "code",
   "execution_count": null,
   "metadata": {},
   "outputs": [],
   "source": [
    "all_text = []\n",
    "for block in data['Blocks']:\n",
    "    # print(block.keys())\n",
    "    if \"Text\" in block:\n",
    "        all_text.append(block[\"Text\"])\n",
    "        # print(block[\"Text\"])\n",
    "text_str = '\\n'.join(all_text)"
   ]
  },
  {
   "cell_type": "code",
   "execution_count": null,
   "metadata": {},
   "outputs": [],
   "source": [
    "text_str"
   ]
  },
  {
   "cell_type": "code",
   "execution_count": null,
   "metadata": {},
   "outputs": [],
   "source": [
    "import re\n",
    "attributes = ['CONCEPTUAL', 'ANALYTICAL', 'STRUCTURAL', 'SOCIAL']\n",
    "# results = {}\n",
    "for attr in attributes:\n",
    "    value = re.findall(re.escape(attr) + r' = (\\d+)%', text_str)[0]\n",
    "    print(value)"
   ]
  },
  {
   "cell_type": "code",
   "execution_count": null,
   "metadata": {},
   "outputs": [],
   "source": [
    "percentile_pattern = r\"\\nAnalytical\\n(\\d+)\\nStructural\\n(\\d+)\\nSocial\\n(\\d+)\\nConceptual\\n(\\d+)\\nExpressiveness\\n(\\d+)\\nQuiet\\nIntrospective\\nReserved\\nTalkative\\nGregarious\\nAssertiveness\\n(\\d+)\\nPeacekeeping\\nEasygoing\\nCompetitive\\nForceful\\nDriving\\nFlexibility\\n(\\d+)\"\n",
    "re.findall(percentile_pattern, text_str)[0]"
   ]
  },
  {
   "cell_type": "code",
   "execution_count": null,
   "metadata": {},
   "outputs": [],
   "source": [
    "from tika import parser"
   ]
  },
  {
   "cell_type": "code",
   "execution_count": null,
   "metadata": {},
   "outputs": [],
   "source": [
    "parsed_pdf = parser.from_file(\"/home/watsonchua/work/emergenetics_profiles/AIPF Emergenetics Profile/Profile_Narrative_Watson_Chua.pdf\")\n"
   ]
  },
  {
   "cell_type": "code",
   "execution_count": null,
   "metadata": {},
   "outputs": [],
   "source": [
    "text= parsed_pdf['content']"
   ]
  },
  {
   "cell_type": "code",
   "execution_count": null,
   "metadata": {},
   "outputs": [],
   "source": [
    "text"
   ]
  },
  {
   "cell_type": "code",
   "execution_count": null,
   "metadata": {},
   "outputs": [],
   "source": [
    "import re\n",
    "\n",
    "# analytical_percentile_pattern = r\"You rank in the (\\d+) percentile in Analytical thinking\"\n",
    "# structural_percentile_pattern = r\"you rank in the (\\d+) percentile in Structural thinking\"\n",
    "# social_percentile_pattern = r\"You rank in the (\\d+) percentile in Social thinking\" \n",
    "# conceptual_percentile_pattern = r\"Conceptual thinking, you rank in the (\\d+) percentile\"\n",
    "\n",
    "percentile_patterns = r\"The Percentiles\\n\\nAnalytical (\\d+)%ile\\n\\nStructural (\\d+)%ile\\n\\nSocial (\\d+)%ile\\n\\nConceptual (\\d+)%ile\\n\\nBar charts in four colors show your Thinking Attributes in percentiles.\"\n",
    "\n",
    "\n",
    "conceptual_pattern = r\"CONCEPTUAL = (\\d+)%\"\n",
    "analytical_pattern = r\"ANALYTICAL = (\\d+)%\"\n",
    "structural_pattern = r\"STRUCTURAL = (\\d+)%\"\n",
    "social_pattern = r\"SOCIAL = (\\d+)%\"\n",
    "\n",
    "\n",
    "other_patterns = r\"Expressiveness (\\d+)%ile\\n\\nAssertiveness (\\d+)%ile\\n\\nFlexibility (\\d+)%ile\"\n",
    "name_pattern = r\"Congratulations,(.*)!\"\n",
    "\n",
    "def extract_values(text):\n",
    "    # test = re.findall(analytical_percentile_pattern, text) + re.findall(structural_percentile_pattern, text) + re.findall(social_percentile_pattern, text) + re.findall(conceptual_percentile_pattern, text)\n",
    "    # print(test)\n",
    "    name = re.findall(name_pattern, text)[0]\n",
    "    analytical_percentile, structural_percentile, social_percentile, conceptual_percentile = re.findall(percentile_patterns, text)[0]\n",
    "    analytical_percentage = re.findall(analytical_pattern, text)[0]\n",
    "    structural_percentage = re.findall(structural_pattern, text)[0]\n",
    "    social_percentage = re.findall(social_pattern, text)[0]\n",
    "    conceptual_percentage = re.findall(conceptual_pattern, text)[0]\n",
    "    expressiveness, assertiveness, flexibility = re.findall(other_patterns, text)[0]\n",
    "\n",
    "    return {\n",
    "        'Name': name.title(),\n",
    "        'Analytical': analytical_percentage, \n",
    "        'Conceptual': conceptual_percentage,\n",
    "        'Structural': structural_percentage, \n",
    "        'Social': social_percentage, \n",
    "        'Analytical Percentile': analytical_percentile,\n",
    "        'Conceptual Percentile': conceptual_percentile, \n",
    "        'Structural Percentile': structural_percentile, \n",
    "        'Social Percentile': social_percentile, \n",
    "        'Expressiveness': expressiveness, \n",
    "        'Assertiveness': assertiveness, \n",
    "        'Flexibility': flexibility\n",
    "    }"
   ]
  },
  {
   "cell_type": "code",
   "execution_count": null,
   "metadata": {},
   "outputs": [],
   "source": [
    "from glob import glob\n",
    "filepaths = glob('./AIPF Emergenetics Profile/*.pdf')\n",
    "profiles = []\n",
    "for fp in filepaths:\n",
    "    print(fp)\n",
    "    parsed_pdf = parser.from_file(fp)\n",
    "    content = parsed_pdf['content']    \n",
    "    if not content.strip().endswith('Please contact your Emergenetics Associate or email the Emergenetics International\\noffice at brains@emergenetics.com with your observations, suggestions, and comments.\\n\\n \\n\\nNOTES'):\n",
    "        print('Invalid file')\n",
    "        continue\n",
    "    extracted = extract_values(content)\n",
    "    profiles.append(extracted)\n"
   ]
  },
  {
   "cell_type": "code",
   "execution_count": null,
   "metadata": {},
   "outputs": [],
   "source": [
    "import pandas as pd\n",
    "df_profiles = pd.DataFrame(profiles)\n",
    "df_profiles"
   ]
  },
  {
   "cell_type": "code",
   "execution_count": null,
   "metadata": {},
   "outputs": [],
   "source": [
    "df_profiles.to_csv('profile.csv', index=False)"
   ]
  },
  {
   "cell_type": "code",
   "execution_count": null,
   "metadata": {},
   "outputs": [],
   "source": []
  }
 ],
 "metadata": {
  "kernelspec": {
   "display_name": "Python 3.8.10 64-bit",
   "language": "python",
   "name": "python3"
  },
  "language_info": {
   "codemirror_mode": {
    "name": "ipython",
    "version": 3
   },
   "file_extension": ".py",
   "mimetype": "text/x-python",
   "name": "python",
   "nbconvert_exporter": "python",
   "pygments_lexer": "ipython3",
   "version": "3.8.10"
  },
  "orig_nbformat": 4,
  "vscode": {
   "interpreter": {
    "hash": "aee8b7b246df8f9039afb4144a1f6fd8d2ca17a180786b69acc140d282b71a49"
   }
  }
 },
 "nbformat": 4,
 "nbformat_minor": 2
}
