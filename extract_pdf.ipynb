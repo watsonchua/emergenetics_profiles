{
 "cells": [
  {
   "cell_type": "code",
   "execution_count": null,
   "metadata": {},
   "outputs": [],
   "source": [
    "import PyPDF2\n",
    "\n",
    "with open('./AIPF Emergenetics Profile/Profile_Narrative_Watson_Chua.pdf', 'rb') as f:\n",
    "    # creating a page object\n",
    "    pdfReader = PyPDF2.PdfFileReader(f)\n",
    "    pageObj = pdfReader.getPage(0)\n",
    "    # extracting text from page\n",
    "    text = pageObj.extractText()"
   ]
  },
  {
   "cell_type": "code",
   "execution_count": null,
   "metadata": {},
   "outputs": [],
   "source": [
    "text"
   ]
  },
  {
   "cell_type": "code",
   "execution_count": null,
   "metadata": {},
   "outputs": [],
   "source": [
    "import re\n",
    "def extract_content_from_profile(profile):\n",
    "    attributes = ['CONCEPTUAL', 'ANALYTICAL', 'STRUCTURAL', 'SOCIAL']\n",
    "    results = {}\n",
    "    for attr in attributes:\n",
    "        value = re.findall(re.escape(attr) + r' = (\\d+)%', text)[0]\n",
    "        results[attr] = value\n",
    "        results['NAME'] = text.split('\\n')[-4].split('-')[0].strip()\n",
    "    return results\n",
    "\n"
   ]
  },
  {
   "cell_type": "code",
   "execution_count": null,
   "metadata": {},
   "outputs": [],
   "source": [
    "from glob import glob\n",
    "all_profiles = []\n",
    "filepaths = glob('./AIPF Emergenetics Profile/*.pdf')\n",
    "for fp in filepaths:\n",
    "    with open(fp, 'rb') as f:\n",
    "        pdfReader = PyPDF2.PdfFileReader(f)\n",
    "        pageObj = pdfReader.getPage(0)\n",
    "        text = pageObj.extractText()\n",
    "        if not text.startswith('HOW YOU THINK'):\n",
    "            print(text)\n",
    "            continue\n",
    "        profile = extract_content_from_profile(text)\n",
    "        all_profiles.append(profile)\n",
    "all_profiles"
   ]
  },
  {
   "cell_type": "code",
   "execution_count": null,
   "metadata": {},
   "outputs": [],
   "source": [
    "import pandas as pd\n",
    "df_profiles = pd.DataFrame(all_profiles)"
   ]
  },
  {
   "cell_type": "code",
   "execution_count": null,
   "metadata": {},
   "outputs": [],
   "source": [
    "df_profiles.loc[df_profiles['NAME']=='WATSON CHUA']"
   ]
  },
  {
   "cell_type": "code",
   "execution_count": null,
   "metadata": {},
   "outputs": [],
   "source": [
    "df_profiles.to_csv('profile.csv', index=False)"
   ]
  },
  {
   "cell_type": "markdown",
   "metadata": {},
   "source": [
    "## Google Auth"
   ]
  },
  {
   "cell_type": "code",
   "execution_count": null,
   "metadata": {},
   "outputs": [],
   "source": [
    "from googleapiclient.discovery import build\n",
    "from oauth2client.service_account import ServiceAccountCredentials\n",
    "\n",
    "scope = ['https://www.googleapis.com/auth/drive.readonly']\n",
    "\n",
    "credentials = ServiceAccountCredentials.from_json_keyfile_name('gdrive-access-368306-1d07a7f84034.json', scope)\n",
    "\n",
    "# https://developers.google.com/drive/api/v3/quickstart/python\n",
    "service = build('drive', 'v3', credentials=credentials)\n",
    "\n",
    "# Call the Drive v3 API\n",
    "results = service.files().list(\n",
    "    fields=\"*\",corpora = 'drive',supportsAllDrives = True, driveId = \"1uoapecGhphu5AF5Lqd5jYhQYGBFO2j6u\", includeItemsFromAllDrives = True).execute()\n",
    "items = results.get('files', [])\n",
    "\n",
    "if not items:\n",
    "    print('No files found.')\n",
    "else:\n",
    "    print('Files:')\n",
    "    for item in items:\n",
    "        print(u'{0} ({1})'.format(item['name'], item['id']))"
   ]
  },
  {
   "cell_type": "code",
   "execution_count": null,
   "metadata": {},
   "outputs": [],
   "source": [
    "res = service.drives()"
   ]
  },
  {
   "cell_type": "code",
   "execution_count": null,
   "metadata": {},
   "outputs": [],
   "source": [
    "res"
   ]
  },
  {
   "cell_type": "code",
   "execution_count": null,
   "metadata": {},
   "outputs": [],
   "source": [
    "# Textract output\n",
    "import json\n",
    "with open('./watson_textract.json', 'r') as f:\n",
    "    data = json.load(f)"
   ]
  },
  {
   "cell_type": "code",
   "execution_count": null,
   "metadata": {},
   "outputs": [],
   "source": [
    "all_text = []\n",
    "for block in data['Blocks']:\n",
    "    # print(block.keys())\n",
    "    if \"Text\" in block:\n",
    "        all_text.append(block[\"Text\"])\n",
    "        # print(block[\"Text\"])\n",
    "text_str = '\\n'.join(all_text)"
   ]
  },
  {
   "cell_type": "code",
   "execution_count": null,
   "metadata": {},
   "outputs": [],
   "source": [
    "text_str"
   ]
  },
  {
   "cell_type": "code",
   "execution_count": null,
   "metadata": {},
   "outputs": [],
   "source": [
    "import re\n",
    "attributes = ['CONCEPTUAL', 'ANALYTICAL', 'STRUCTURAL', 'SOCIAL']\n",
    "# results = {}\n",
    "for attr in attributes:\n",
    "    value = re.findall(re.escape(attr) + r' = (\\d+)%', text_str)[0]\n",
    "    print(value)"
   ]
  },
  {
   "cell_type": "code",
   "execution_count": null,
   "metadata": {},
   "outputs": [],
   "source": [
    "percentile_pattern = r\"\\nAnalytical\\n(\\d+)\\nStructural\\n(\\d+)\\nSocial\\n(\\d+)\\nConceptual\\n(\\d+)\\nExpressiveness\\n(\\d+)\\nQuiet\\nIntrospective\\nReserved\\nTalkative\\nGregarious\\nAssertiveness\\n(\\d+)\\nPeacekeeping\\nEasygoing\\nCompetitive\\nForceful\\nDriving\\nFlexibility\\n(\\d+)\"\n",
    "re.findall(percentile_pattern, text_str)[0]"
   ]
  },
  {
   "cell_type": "code",
   "execution_count": 29,
   "metadata": {},
   "outputs": [],
   "source": [
    "from tika import parser"
   ]
  },
  {
   "cell_type": "code",
   "execution_count": 30,
   "metadata": {},
   "outputs": [
    {
     "name": "stderr",
     "output_type": "stream",
     "text": [
      "2022-11-15 17:25:06,144 [MainThread  ] [INFO ]  Retrieving http://search.maven.org/remotecontent?filepath=org/apache/tika/tika-server/1.24/tika-server-1.24.jar.md5 to /tmp/tika-server.jar.md5.\n",
      "2022-11-15 17:25:07,472 [MainThread  ] [INFO ]  Retrieving http://search.maven.org/remotecontent?filepath=org/apache/tika/tika-server/1.24/tika-server-1.24.jar to /tmp/tika-server.jar.\n",
      "2022-11-15 17:25:44,112 [MainThread  ] [ERROR]  Unable to run java; is it installed?\n",
      "2022-11-15 17:25:44,117 [MainThread  ] [ERROR]  Failed to receive startup confirmation from startServer.\n"
     ]
    },
    {
     "ename": "RuntimeError",
     "evalue": "Unable to start Tika server.",
     "output_type": "error",
     "traceback": [
      "\u001b[0;31m---------------------------------------------------------------------------\u001b[0m",
      "\u001b[0;31mRuntimeError\u001b[0m                              Traceback (most recent call last)",
      "\u001b[1;32m/home/watsonchua/work/emergenetics_profiles/extract_pdf.ipynb Cell 18\u001b[0m in \u001b[0;36m<cell line: 1>\u001b[0;34m()\u001b[0m\n\u001b[0;32m----> <a href='vscode-notebook-cell://wsl%2Bubuntu/home/watsonchua/work/emergenetics_profiles/extract_pdf.ipynb#X23sdnNjb2RlLXJlbW90ZQ%3D%3D?line=0'>1</a>\u001b[0m parsed_pdf \u001b[39m=\u001b[39m parser\u001b[39m.\u001b[39;49mfrom_file(\u001b[39m\"\u001b[39;49m\u001b[39m./AIPF Emergenetics Profile/Profile_Narrative_Watson_Chua.pdf\u001b[39;49m\u001b[39m\"\u001b[39;49m)\n",
      "File \u001b[0;32m~/.local/lib/python3.8/site-packages/tika/parser.py:40\u001b[0m, in \u001b[0;36mfrom_file\u001b[0;34m(filename, serverEndpoint, service, xmlContent, headers, config_path, requestOptions)\u001b[0m\n\u001b[1;32m     24\u001b[0m \u001b[39m'''\u001b[39;00m\n\u001b[1;32m     25\u001b[0m \u001b[39mParses a file for metadata and content\u001b[39;00m\n\u001b[1;32m     26\u001b[0m \u001b[39m:param filename: path to file which needs to be parsed or binary file using open(path,'rb')\u001b[39;00m\n\u001b[0;32m   (...)\u001b[0m\n\u001b[1;32m     37\u001b[0m \u001b[39m        'content' has a str value and metadata has a dict type value.\u001b[39;00m\n\u001b[1;32m     38\u001b[0m \u001b[39m'''\u001b[39;00m\n\u001b[1;32m     39\u001b[0m \u001b[39mif\u001b[39;00m \u001b[39mnot\u001b[39;00m xmlContent:\n\u001b[0;32m---> 40\u001b[0m     output \u001b[39m=\u001b[39m parse1(service, filename, serverEndpoint, headers\u001b[39m=\u001b[39;49mheaders, config_path\u001b[39m=\u001b[39;49mconfig_path, requestOptions\u001b[39m=\u001b[39;49mrequestOptions)\n\u001b[1;32m     41\u001b[0m \u001b[39melse\u001b[39;00m:\n\u001b[1;32m     42\u001b[0m     output \u001b[39m=\u001b[39m parse1(service, filename, serverEndpoint, services\u001b[39m=\u001b[39m{\u001b[39m'\u001b[39m\u001b[39mmeta\u001b[39m\u001b[39m'\u001b[39m: \u001b[39m'\u001b[39m\u001b[39m/meta\u001b[39m\u001b[39m'\u001b[39m, \u001b[39m'\u001b[39m\u001b[39mtext\u001b[39m\u001b[39m'\u001b[39m: \u001b[39m'\u001b[39m\u001b[39m/tika\u001b[39m\u001b[39m'\u001b[39m, \u001b[39m'\u001b[39m\u001b[39mall\u001b[39m\u001b[39m'\u001b[39m: \u001b[39m'\u001b[39m\u001b[39m/rmeta/xml\u001b[39m\u001b[39m'\u001b[39m},\n\u001b[1;32m     43\u001b[0m                         headers\u001b[39m=\u001b[39mheaders, config_path\u001b[39m=\u001b[39mconfig_path, requestOptions\u001b[39m=\u001b[39mrequestOptions)\n",
      "File \u001b[0;32m~/.local/lib/python3.8/site-packages/tika/tika.py:336\u001b[0m, in \u001b[0;36mparse1\u001b[0;34m(option, urlOrPath, serverEndpoint, verbose, tikaServerJar, responseMimeType, services, rawResponse, headers, config_path, requestOptions)\u001b[0m\n\u001b[1;32m    334\u001b[0m headers\u001b[39m.\u001b[39mupdate({\u001b[39m'\u001b[39m\u001b[39mAccept\u001b[39m\u001b[39m'\u001b[39m: responseMimeType, \u001b[39m'\u001b[39m\u001b[39mContent-Disposition\u001b[39m\u001b[39m'\u001b[39m: make_content_disposition_header(path\u001b[39m.\u001b[39mencode(\u001b[39m'\u001b[39m\u001b[39mutf-8\u001b[39m\u001b[39m'\u001b[39m) \u001b[39mif\u001b[39;00m \u001b[39mtype\u001b[39m(path) \u001b[39mis\u001b[39;00m unicode_string \u001b[39melse\u001b[39;00m path)})\n\u001b[1;32m    335\u001b[0m \u001b[39mwith\u001b[39;00m urlOrPath \u001b[39mif\u001b[39;00m _is_file_object(urlOrPath) \u001b[39melse\u001b[39;00m \u001b[39mopen\u001b[39m(path, \u001b[39m'\u001b[39m\u001b[39mrb\u001b[39m\u001b[39m'\u001b[39m) \u001b[39mas\u001b[39;00m f:\n\u001b[0;32m--> 336\u001b[0m     status, response \u001b[39m=\u001b[39m callServer(\u001b[39m'\u001b[39;49m\u001b[39mput\u001b[39;49m\u001b[39m'\u001b[39;49m, serverEndpoint, service, f,\n\u001b[1;32m    337\u001b[0m                                   headers, verbose, tikaServerJar, config_path\u001b[39m=\u001b[39;49mconfig_path,\n\u001b[1;32m    338\u001b[0m                                   rawResponse\u001b[39m=\u001b[39;49mrawResponse, requestOptions\u001b[39m=\u001b[39;49mrequestOptions)\n\u001b[1;32m    340\u001b[0m \u001b[39mif\u001b[39;00m file_type \u001b[39m==\u001b[39m \u001b[39m'\u001b[39m\u001b[39mremote\u001b[39m\u001b[39m'\u001b[39m: os\u001b[39m.\u001b[39munlink(path)\n\u001b[1;32m    341\u001b[0m \u001b[39mreturn\u001b[39;00m (status, response)\n",
      "File \u001b[0;32m~/.local/lib/python3.8/site-packages/tika/tika.py:531\u001b[0m, in \u001b[0;36mcallServer\u001b[0;34m(verb, serverEndpoint, service, data, headers, verbose, tikaServerJar, httpVerbs, classpath, rawResponse, config_path, requestOptions)\u001b[0m\n\u001b[1;32m    529\u001b[0m \u001b[39mglobal\u001b[39;00m TikaClientOnly\n\u001b[1;32m    530\u001b[0m \u001b[39mif\u001b[39;00m \u001b[39mnot\u001b[39;00m TikaClientOnly:\n\u001b[0;32m--> 531\u001b[0m     serverEndpoint \u001b[39m=\u001b[39m checkTikaServer(scheme, serverHost, port, tikaServerJar, classpath, config_path)\n\u001b[1;32m    533\u001b[0m serviceUrl  \u001b[39m=\u001b[39m serverEndpoint \u001b[39m+\u001b[39m service\n\u001b[1;32m    534\u001b[0m \u001b[39mif\u001b[39;00m verb \u001b[39mnot\u001b[39;00m \u001b[39min\u001b[39;00m httpVerbs:\n",
      "File \u001b[0;32m~/.local/lib/python3.8/site-packages/tika/tika.py:601\u001b[0m, in \u001b[0;36mcheckTikaServer\u001b[0;34m(scheme, serverHost, port, tikaServerJar, classpath, config_path)\u001b[0m\n\u001b[1;32m    599\u001b[0m         \u001b[39mif\u001b[39;00m \u001b[39mnot\u001b[39;00m status:\n\u001b[1;32m    600\u001b[0m             log\u001b[39m.\u001b[39merror(\u001b[39m\"\u001b[39m\u001b[39mFailed to receive startup confirmation from startServer.\u001b[39m\u001b[39m\"\u001b[39m)\n\u001b[0;32m--> 601\u001b[0m             \u001b[39mraise\u001b[39;00m \u001b[39mRuntimeError\u001b[39;00m(\u001b[39m\"\u001b[39m\u001b[39mUnable to start Tika server.\u001b[39m\u001b[39m\"\u001b[39m)\n\u001b[1;32m    602\u001b[0m \u001b[39mreturn\u001b[39;00m serverEndpoint\n",
      "\u001b[0;31mRuntimeError\u001b[0m: Unable to start Tika server."
     ]
    }
   ],
   "source": [
    "parsed_pdf = parser.from_file(\"./AIPF Emergenetics Profile/Profile_Narrative_Watson_Chua.pdf\")\n"
   ]
  },
  {
   "cell_type": "code",
   "execution_count": null,
   "metadata": {},
   "outputs": [],
   "source": [
    "text= parsed_pdf['content']"
   ]
  },
  {
   "cell_type": "code",
   "execution_count": null,
   "metadata": {},
   "outputs": [],
   "source": [
    "text"
   ]
  },
  {
   "cell_type": "code",
   "execution_count": null,
   "metadata": {},
   "outputs": [],
   "source": [
    "import re\n",
    "\n",
    "# analytical_percentile_pattern = r\"You rank in the (\\d+) percentile in Analytical thinking\"\n",
    "# structural_percentile_pattern = r\"you rank in the (\\d+) percentile in Structural thinking\"\n",
    "# social_percentile_pattern = r\"You rank in the (\\d+) percentile in Social thinking\" \n",
    "# conceptual_percentile_pattern = r\"Conceptual thinking, you rank in the (\\d+) percentile\"\n",
    "\n",
    "percentile_patterns = r\"The Percentiles\\n\\nAnalytical (\\d+)%ile\\n\\nStructural (\\d+)%ile\\n\\nSocial (\\d+)%ile\\n\\nConceptual (\\d+)%ile\\n\\nBar charts in four colors show your Thinking Attributes in percentiles.\"\n",
    "\n",
    "\n",
    "conceptual_pattern = r\"CONCEPTUAL = (\\d+)%\"\n",
    "analytical_pattern = r\"ANALYTICAL = (\\d+)%\"\n",
    "structural_pattern = r\"STRUCTURAL = (\\d+)%\"\n",
    "social_pattern = r\"SOCIAL = (\\d+)%\"\n",
    "\n",
    "\n",
    "other_patterns = r\"Expressiveness (\\d+)%ile\\n\\nAssertiveness (\\d+)%ile\\n\\nFlexibility (\\d+)%ile\"\n",
    "name_pattern = r\"Congratulations,(.*)!\"\n",
    "\n",
    "def extract_values(text):\n",
    "    # test = re.findall(analytical_percentile_pattern, text) + re.findall(structural_percentile_pattern, text) + re.findall(social_percentile_pattern, text) + re.findall(conceptual_percentile_pattern, text)\n",
    "    # print(test)\n",
    "    name = re.findall(name_pattern, text)[0]\n",
    "    analytical_percentile, structural_percentile, social_percentile, conceptual_percentile = re.findall(percentile_patterns, text)[0]\n",
    "    analytical_percentage = re.findall(analytical_pattern, text)[0]\n",
    "    structural_percentage = re.findall(structural_pattern, text)[0]\n",
    "    social_percentage = re.findall(social_pattern, text)[0]\n",
    "    conceptual_percentage = re.findall(conceptual_pattern, text)[0]\n",
    "    expressiveness, assertiveness, flexibility = re.findall(other_patterns, text)[0]\n",
    "\n",
    "    return {\n",
    "        'Name': name.title().strip(),\n",
    "        'Analytical': analytical_percentage, \n",
    "        'Conceptual': conceptual_percentage,\n",
    "        'Structural': structural_percentage, \n",
    "        'Social': social_percentage, \n",
    "        'Analytical Percentile': analytical_percentile,\n",
    "        'Conceptual Percentile': conceptual_percentile, \n",
    "        'Structural Percentile': structural_percentile, \n",
    "        'Social Percentile': social_percentile, \n",
    "        'Expressiveness': expressiveness, \n",
    "        'Assertiveness': assertiveness, \n",
    "        'Flexibility': flexibility\n",
    "    }"
   ]
  },
  {
   "cell_type": "code",
   "execution_count": null,
   "metadata": {},
   "outputs": [],
   "source": [
    "from glob import glob\n",
    "filepaths = glob('./AIPF Emergenetics Profile/*.pdf')\n",
    "profiles = []\n",
    "for fp in filepaths:\n",
    "    print(fp)\n",
    "    parsed_pdf = parser.from_file(fp)\n",
    "    content = parsed_pdf['content']    \n",
    "    if not content.strip().endswith('Please contact your Emergenetics Associate or email the Emergenetics International\\noffice at brains@emergenetics.com with your observations, suggestions, and comments.\\n\\n \\n\\nNOTES'):\n",
    "        print('Invalid file')\n",
    "        continue\n",
    "    extracted = extract_values(content)\n",
    "    profiles.append(extracted)\n"
   ]
  },
  {
   "cell_type": "code",
   "execution_count": null,
   "metadata": {},
   "outputs": [],
   "source": [
    "import pandas as pd\n",
    "df_profiles = pd.DataFrame(profiles)\n",
    "df_profiles"
   ]
  },
  {
   "cell_type": "code",
   "execution_count": null,
   "metadata": {},
   "outputs": [],
   "source": [
    "df_profiles.to_csv('profile.csv', index=False)"
   ]
  },
  {
   "cell_type": "code",
   "execution_count": 2,
   "metadata": {},
   "outputs": [],
   "source": [
    "# import pandas as pd\n",
    "# df = pd.read_csv('profile.csv')"
   ]
  },
  {
   "cell_type": "code",
   "execution_count": 8,
   "metadata": {},
   "outputs": [],
   "source": [
    "from sklearn.metrics.pairwise import cosine_similarity\n",
    "cos_sim = cosine_similarity(df_profiles[['Analytical', 'Conceptual', 'Structural', 'Social']])"
   ]
  },
  {
   "cell_type": "code",
   "execution_count": null,
   "metadata": {},
   "outputs": [],
   "source": [
    "import numpy as np\n",
    "np.save('cosine_similarity.npy', cos_sim)"
   ]
  },
  {
   "cell_type": "code",
   "execution_count": 9,
   "metadata": {},
   "outputs": [
    {
     "data": {
      "text/plain": [
       "0.9999999999999999"
      ]
     },
     "execution_count": 9,
     "metadata": {},
     "output_type": "execute_result"
    }
   ],
   "source": [
    "cos_sim[0][0]"
   ]
  },
  {
   "cell_type": "code",
   "execution_count": 20,
   "metadata": {},
   "outputs": [
    {
     "data": {
      "text/plain": [
       "7"
      ]
     },
     "execution_count": 20,
     "metadata": {},
     "output_type": "execute_result"
    }
   ],
   "source": [
    "df_profiles[df_profiles['Name'])=='Watson Chua'].index[0]"
   ]
  },
  {
   "cell_type": "code",
   "execution_count": 11,
   "metadata": {},
   "outputs": [
    {
     "data": {
      "text/plain": [
       "0              Becca Qiu\n",
       "1              Carine Oh\n",
       "2      Alvin Shi Jiin Ng\n",
       "3             Shangru Ng\n",
       "4               Quan Xue\n",
       "5             Zixiang Ng\n",
       "6             Victor Loh\n",
       "7            Watson Chua\n",
       "8             Amelia Lee\n",
       "9          Woon Peng Goh\n",
       "10              Jing Han\n",
       "11        Sulaiman Alwie\n",
       "12           Pek Kuan Ng\n",
       "13           Wenjie Boon\n",
       "14         Jiew Peng Lim\n",
       "15             Ryan Fong\n",
       "16                 Lu Li\n",
       "17            Esther Gao\n",
       "18         Chii Yeh Chin\n",
       "19            Alvina Goh\n",
       "20         Weiguang Chen\n",
       "Name: Name, dtype: object"
      ]
     },
     "execution_count": 11,
     "metadata": {},
     "output_type": "execute_result"
    }
   ],
   "source": [
    "df_profiles['Name']"
   ]
  },
  {
   "cell_type": "code",
   "execution_count": 25,
   "metadata": {},
   "outputs": [
    {
     "data": {
      "text/plain": [
       "array([ 0, 16,  9, 19])"
      ]
     },
     "execution_count": 25,
     "metadata": {},
     "output_type": "execute_result"
    }
   ],
   "source": [
    "import numpy as np\n",
    "# np.argsort(cos_sim[7])\n",
    "(-cos_sim[7]).argsort()[1:5]"
   ]
  },
  {
   "cell_type": "code",
   "execution_count": 28,
   "metadata": {},
   "outputs": [
    {
     "data": {
      "text/plain": [
       "Name                      Alvina Goh\n",
       "Analytical                        48\n",
       "Conceptual                        45\n",
       "Structural                         4\n",
       "Social                             3\n",
       "Analytical Percentile             95\n",
       "Conceptual Percentile             89\n",
       "Structural Percentile              8\n",
       "Social Percentile                  5\n",
       "Expressiveness                     7\n",
       "Assertiveness                     76\n",
       "Flexibility                        5\n",
       "Name: 19, dtype: object"
      ]
     },
     "execution_count": 28,
     "metadata": {},
     "output_type": "execute_result"
    }
   ],
   "source": [
    "df.iloc[19]"
   ]
  },
  {
   "cell_type": "code",
   "execution_count": null,
   "metadata": {},
   "outputs": [],
   "source": []
  }
 ],
 "metadata": {
  "kernelspec": {
   "display_name": "Python 3.8.10 64-bit",
   "language": "python",
   "name": "python3"
  },
  "language_info": {
   "codemirror_mode": {
    "name": "ipython",
    "version": 3
   },
   "file_extension": ".py",
   "mimetype": "text/x-python",
   "name": "python",
   "nbconvert_exporter": "python",
   "pygments_lexer": "ipython3",
   "version": "3.8.10"
  },
  "orig_nbformat": 4,
  "vscode": {
   "interpreter": {
    "hash": "916dbcbb3f70747c44a77c7bcd40155683ae19c65e1c03b4aa3499c5328201f1"
   }
  }
 },
 "nbformat": 4,
 "nbformat_minor": 2
}
