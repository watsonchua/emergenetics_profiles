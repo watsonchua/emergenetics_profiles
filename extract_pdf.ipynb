{
 "cells": [
  {
   "cell_type": "code",
   "execution_count": 8,
   "metadata": {},
   "outputs": [],
   "source": [
    "import PyPDF2\n",
    "\n",
    "with open('/home/watsonchua/Downloads/Emergenetics%20Profile%20and%20Narrative.pdf', 'rb') as f:\n",
    "    # creating a page object\n",
    "    pdfReader = PyPDF2.PdfFileReader(f)\n",
    "    pageObj = pdfReader.getPage(0)\n",
    "    # extracting text from page\n",
    "    text = pageObj.extractText()\n"
   ]
  },
  {
   "cell_type": "code",
   "execution_count": 17,
   "metadata": {},
   "outputs": [
    {
     "data": {
      "text/plain": [
       "'HOW YOU THINK : PERCENTAGESHow you Think: Percentiles How you Behave: Percentiles\\nGeneral Population   0          10         20          30         40         50          60         70         80          90         100Quiet              Introspective                Reserved               Talkative             Gregarious\\nPeacekeeping           Easygoing             Competitive             Forceful               Driving\\nFocused           Firm           Adaptable          Accommodating          Welcomes ChangeStructural\\nSocial\\nConceptual\\nExpressiveness\\nAssertiveness 19\\n 5\\n 69CONCEPTUAL = 38% ANALYTICAL = 49%\\nSTRUCTURAL = 10%Imaginative\\nIntuitive about ideas\\nVisionary\\nEnjoys the unusual\\nLearns by experimenting\\nSOCIAL = 3%\\nHOW YOU COMPARE TO THE GENERAL POPULATIONClear thinker\\nLogical problem solver\\nData driven\\nRational\\nLearns by mental analysis\\nPractical thinker\\nLikes guidelines\\nCautious of new ideas\\nPredictable\\nLearns by doingRelational\\nIntuitive about people\\nSocially aware\\nEmpathic\\nLearns from others\\nWATSON CHUA - OCTOBER 31, 2022\\nGeil Browning, Ph.D. / Wendell Williams , Ph.D.FlexibilityAnalytical  91\\nEMERGENETICS | PROFILE \\n2022 Emergenetics, LLC, 1991, '"
      ]
     },
     "execution_count": 17,
     "metadata": {},
     "output_type": "execute_result"
    }
   ],
   "source": [
    "text"
   ]
  },
  {
   "cell_type": "code",
   "execution_count": 23,
   "metadata": {},
   "outputs": [
    {
     "data": {
      "text/plain": [
       "{'CONCEPTUAL': '38',\n",
       " 'NAME': 'WATSON CHUA',\n",
       " 'ANALYTICAL': '49',\n",
       " 'STRUCTURAL': '10',\n",
       " 'SOCIAL': '3'}"
      ]
     },
     "execution_count": 23,
     "metadata": {},
     "output_type": "execute_result"
    }
   ],
   "source": [
    "import re\n",
    "attributes = ['CONCEPTUAL', 'ANALYTICAL', 'STRUCTURAL', 'SOCIAL']\n",
    "results = {}\n",
    "for attr in attributes:\n",
    "    value = re.findall(re.escape(attr) + r' = (\\d+)%', text)[0]\n",
    "    results[attr] = value\n",
    "    results['NAME'] = text.split('\\n')[-4].split('-')[0].strip()\n",
    "results"
   ]
  },
  {
   "cell_type": "code",
   "execution_count": 19,
   "metadata": {},
   "outputs": [
    {
     "data": {
      "text/plain": [
       "{'attr': '3'}"
      ]
     },
     "execution_count": 19,
     "metadata": {},
     "output_type": "execute_result"
    }
   ],
   "source": []
  },
  {
   "cell_type": "code",
   "execution_count": null,
   "metadata": {},
   "outputs": [],
   "source": []
  }
 ],
 "metadata": {
  "kernelspec": {
   "display_name": "Python 3.8.10 64-bit",
   "language": "python",
   "name": "python3"
  },
  "language_info": {
   "codemirror_mode": {
    "name": "ipython",
    "version": 3
   },
   "file_extension": ".py",
   "mimetype": "text/x-python",
   "name": "python",
   "nbconvert_exporter": "python",
   "pygments_lexer": "ipython3",
   "version": "3.8.10"
  },
  "orig_nbformat": 4,
  "vscode": {
   "interpreter": {
    "hash": "aee8b7b246df8f9039afb4144a1f6fd8d2ca17a180786b69acc140d282b71a49"
   }
  }
 },
 "nbformat": 4,
 "nbformat_minor": 2
}
