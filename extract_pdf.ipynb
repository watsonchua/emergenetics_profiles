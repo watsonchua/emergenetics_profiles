{
 "cells": [
  {
   "cell_type": "code",
   "execution_count": null,
   "metadata": {},
   "outputs": [],
   "source": [
    "import PyPDF2\n",
    "\n",
    "with open('./AIPF Emergenetics Profile/Profile_Narrative_Watson_Chua.pdf', 'rb') as f:\n",
    "    # creating a page object\n",
    "    pdfReader = PyPDF2.PdfFileReader(f)\n",
    "    pageObj = pdfReader.getPage(0)\n",
    "    # extracting text from page\n",
    "    text = pageObj.extractText()"
   ]
  },
  {
   "cell_type": "code",
   "execution_count": null,
   "metadata": {},
   "outputs": [],
   "source": [
    "text"
   ]
  },
  {
   "cell_type": "code",
   "execution_count": null,
   "metadata": {},
   "outputs": [],
   "source": [
    "import re\n",
    "def extract_content_from_profile(profile):\n",
    "    attributes = ['CONCEPTUAL', 'ANALYTICAL', 'STRUCTURAL', 'SOCIAL']\n",
    "    results = {}\n",
    "    for attr in attributes:\n",
    "        value = re.findall(re.escape(attr) + r' = (\\d+)%', text)[0]\n",
    "        results[attr] = value\n",
    "        results['NAME'] = text.split('\\n')[-4].split('-')[0].strip()\n",
    "    return results\n",
    "\n"
   ]
  },
  {
   "cell_type": "code",
   "execution_count": null,
   "metadata": {},
   "outputs": [],
   "source": [
    "from glob import glob\n",
    "all_profiles = []\n",
    "filepaths = glob('./AIPF Emergenetics Profile/*.pdf')\n",
    "for fp in filepaths:\n",
    "    with open(fp, 'rb') as f:\n",
    "        pdfReader = PyPDF2.PdfFileReader(f)\n",
    "        pageObj = pdfReader.getPage(0)\n",
    "        text = pageObj.extractText()\n",
    "        if not text.startswith('HOW YOU THINK'):\n",
    "            print(text)\n",
    "            continue\n",
    "        profile = extract_content_from_profile(text)\n",
    "        all_profiles.append(profile)\n",
    "all_profiles"
   ]
  },
  {
   "cell_type": "code",
   "execution_count": null,
   "metadata": {},
   "outputs": [],
   "source": [
    "import pandas as pd\n",
    "df_profiles = pd.DataFrame(all_profiles)"
   ]
  },
  {
   "cell_type": "code",
   "execution_count": null,
   "metadata": {},
   "outputs": [],
   "source": [
    "df_profiles.loc[df_profiles['NAME']=='WATSON CHUA']"
   ]
  },
  {
   "cell_type": "code",
   "execution_count": null,
   "metadata": {},
   "outputs": [],
   "source": [
    "df_profiles.to_csv('profile.csv', index=False)"
   ]
  },
  {
   "cell_type": "markdown",
   "metadata": {},
   "source": [
    "## Google Auth"
   ]
  },
  {
   "cell_type": "code",
   "execution_count": null,
   "metadata": {},
   "outputs": [],
   "source": [
    "from googleapiclient.discovery import build\n",
    "from oauth2client.service_account import ServiceAccountCredentials\n",
    "\n",
    "scope = ['https://www.googleapis.com/auth/drive.readonly']\n",
    "\n",
    "credentials = ServiceAccountCredentials.from_json_keyfile_name('gdrive-access-368306-1d07a7f84034.json', scope)\n",
    "\n",
    "# https://developers.google.com/drive/api/v3/quickstart/python\n",
    "service = build('drive', 'v3', credentials=credentials)\n",
    "\n",
    "# Call the Drive v3 API\n",
    "results = service.files().list(\n",
    "    fields=\"*\",corpora = 'drive',supportsAllDrives = True, driveId = \"1uoapecGhphu5AF5Lqd5jYhQYGBFO2j6u\", includeItemsFromAllDrives = True).execute()\n",
    "items = results.get('files', [])\n",
    "\n",
    "if not items:\n",
    "    print('No files found.')\n",
    "else:\n",
    "    print('Files:')\n",
    "    for item in items:\n",
    "        print(u'{0} ({1})'.format(item['name'], item['id']))"
   ]
  },
  {
   "cell_type": "code",
   "execution_count": null,
   "metadata": {},
   "outputs": [],
   "source": [
    "res = service.drives()"
   ]
  },
  {
   "cell_type": "code",
   "execution_count": null,
   "metadata": {},
   "outputs": [],
   "source": [
    "res"
   ]
  },
  {
   "cell_type": "code",
   "execution_count": null,
   "metadata": {},
   "outputs": [],
   "source": [
    "# Textract output\n",
    "import json\n",
    "with open('./watson_textract.json', 'r') as f:\n",
    "    data = json.load(f)"
   ]
  },
  {
   "cell_type": "code",
   "execution_count": null,
   "metadata": {},
   "outputs": [],
   "source": [
    "all_text = []\n",
    "for block in data['Blocks']:\n",
    "    # print(block.keys())\n",
    "    if \"Text\" in block:\n",
    "        all_text.append(block[\"Text\"])\n",
    "        # print(block[\"Text\"])\n",
    "text_str = '\\n'.join(all_text)"
   ]
  },
  {
   "cell_type": "code",
   "execution_count": null,
   "metadata": {},
   "outputs": [],
   "source": [
    "text_str"
   ]
  },
  {
   "cell_type": "code",
   "execution_count": null,
   "metadata": {},
   "outputs": [],
   "source": [
    "import re\n",
    "attributes = ['CONCEPTUAL', 'ANALYTICAL', 'STRUCTURAL', 'SOCIAL']\n",
    "# results = {}\n",
    "for attr in attributes:\n",
    "    value = re.findall(re.escape(attr) + r' = (\\d+)%', text_str)[0]\n",
    "    print(value)"
   ]
  },
  {
   "cell_type": "code",
   "execution_count": null,
   "metadata": {},
   "outputs": [],
   "source": [
    "percentile_pattern = r\"\\nAnalytical\\n(\\d+)\\nStructural\\n(\\d+)\\nSocial\\n(\\d+)\\nConceptual\\n(\\d+)\\nExpressiveness\\n(\\d+)\\nQuiet\\nIntrospective\\nReserved\\nTalkative\\nGregarious\\nAssertiveness\\n(\\d+)\\nPeacekeeping\\nEasygoing\\nCompetitive\\nForceful\\nDriving\\nFlexibility\\n(\\d+)\"\n",
    "re.findall(percentile_pattern, text_str)[0]"
   ]
  },
  {
   "cell_type": "code",
   "execution_count": 29,
   "metadata": {},
   "outputs": [],
   "source": [
    "from tika import parser"
   ]
  },
  {
   "cell_type": "code",
   "execution_count": 31,
   "metadata": {},
   "outputs": [
    {
     "name": "stderr",
     "output_type": "stream",
     "text": [
      "2022-11-15 17:34:24,901 [MainThread  ] [WARNI]  Failed to see startup log message; retrying...\n"
     ]
    }
   ],
   "source": [
    "parsed_pdf = parser.from_file(\"./AIPF Emergenetics Profile/Profile_Narrative_Watson_Chua.pdf\")\n"
   ]
  },
  {
   "cell_type": "code",
   "execution_count": 32,
   "metadata": {},
   "outputs": [],
   "source": [
    "text= parsed_pdf['content']"
   ]
  },
  {
   "cell_type": "code",
   "execution_count": 33,
   "metadata": {},
   "outputs": [
    {
     "data": {
      "text/plain": [
       "'\\n\\n\\n\\n\\n\\n\\n\\n\\n\\n\\n\\n\\n\\n\\n\\n\\n\\n\\n\\n\\n\\n\\n\\n\\n\\n\\n\\n\\n\\n\\n\\n\\n\\n\\n\\n\\n\\nHOW YOU THINK: PERCENTAGES\\nH\\n\\no\\nw\\n\\n y\\no\\n\\nu\\n T\\n\\nh\\nin\\n\\nk\\n: \\n\\nP\\ne\\nrc\\n\\ne\\nn\\n\\nti\\nle\\n\\ns\\nH\\n\\no\\nw\\n\\n y\\no\\n\\nu\\n B\\n\\ne\\nh\\n\\na\\nv\\ne\\n: \\n\\nP\\ne\\nrc\\n\\ne\\nn\\n\\nti\\nle\\n\\ns\\n\\nGeneral Population   0          10         20          30         40         50          60         70         80          90         100\\n\\nQuiet              Introspective                Reserved               Talkative             Gregarious\\n\\nPeacekeeping           Easygoing             Competitive             Forceful               Driving\\n\\nFocused           Firm           Adaptable          Accommodating          Welcomes Change\\n\\nStructural\\n\\nSocial\\n\\nConceptual\\n\\nExpressiveness\\n\\nAssertiveness\\n\\n 19\\n\\n 5\\n\\n 69\\n\\nCONCEPTUAL = 38%ANALYTICAL = 49%\\n\\nSTRUCTURAL = 10%\\n\\nImaginative\\n\\nIntuitive about ideas\\n\\nVisionary\\n\\nEnjoys the unusual\\n\\nLearns by experimenting\\n\\nSOCIAL = 3%\\n\\nHOW YOU COMPARE TO THE GENERAL POPULATION\\n\\nClear thinker\\n\\nLogical problem solver\\n\\nData driven\\n\\nRational\\n\\nLearns by mental analysis\\n\\nPractical thinker\\n\\nLikes guidelines\\n\\nCautious of new ideas\\n\\nPredictable\\n\\nLearns by doing\\n\\nRelational\\n\\nIntuitive about people\\n\\nSocially aware\\n\\nEmpathic\\n\\nLearns from others\\n\\nWATSON CHUA - OCTOBER 31, 2022\\n\\nGeil Browning, Ph.D. / Wendell Williams, Ph.D.\\n\\nFlexibility\\n\\nAnalytical  91\\n\\nEMERGENETICS | PROFILE \\n\\n2022Emergenetics, LLC, 1991, \\n\\n\\n\\n \\n\\nWATSON CHUA\\n\\n\\n\\n11/9/2022\\n\\nCongratulations, Watson Chua! You are holding in your hands your unique Emergenetics Profile, the key to understanding\\nyour innate strengths. Go with them, and you’ll be happier, more satisfied, and more productive.\\n\\nPeople are amazingly complex, and it is difficult to interpret an Emergenetics Profile in just a few pages, so please keep in\\nmind that the following summary is an accurate yet broad description of you. As you read about your unique Emergenetics\\nresults, please remember that they do not reflect your intelligence, or your ability to perform certain tasks. Also, remember\\nthat your Profile is unique, and any result is fine.\\n\\nYour Emergenetics scores are confidential, and we would never share them with anyone without your permission. Whether\\nor not you share your Profile with others is up to you. However, in my experience, people learn a great deal when they share\\ntheir preferences with others.\\n\\nRemember, by understanding and appreciating your Emergenetics preferences, you’ll have a more complete knowledge of\\nyourself at home, at work, and throughout your daily life.\\n\\nIf you would like more information about Emergenetics, please read my book Emergenetics: Tap Into the New Science of\\nSuccess, or visit www.emergenetics.com.\\n\\nSincerely,\\n\\nGeil Browning, Ph.D.\\nFounder and CEO\\nEmergenetics International\\n\\n \\n\\n \\n\\n \\n\\nEmergenetics: The Science of Identifying Your Individual Preferences\\n\\nEmergenetics is a combination of characteristics that emerge from your life experiences, plus the genetics with which you\\nwere born. We have scientifically determined that each individual’s temperament can be described in terms of three\\nBehavioral Attributes and four Thinking Attributes. Each of your attributes is shown along a spectrum. Whether you are at\\none end of the spectrum for an attribute or the other – or in the middle – you are perfect the way you are!\\n\\nOne of the exciting aspects of Emergenetics is that it allows for infinite variations among different people. The seven\\nBehavioral and Thinking attributes can be mixed and matched at different levels to accurately describe anyone.\\n\\nYou are able to use all the Behavioral and Thinking Attributes, but some of them come more naturally to you than others.\\nEveryone has a natural comfort level with each attribute that is reflected in her or his Emergenetics Profile. It is possible to\\n“stretch” attributes like a rubber band when necessary, but operating outside your comfort level takes more energy and will\\ntire you out more quickly.\\n\\n\\n\\nThe Behavioral Attributes\\n\\nThe Behavioral Attributes are what people see first about\\nyou.\\n\\nExpressiveness is your level of participation in social\\nsituations. Your degree of Expressiveness indicates how\\nmuch interest you show in others and in the world around\\nyou. Expressiveness is sharing what you are experiencing on\\nthe inside with the outside world. People who are at the\\nquiet end of the spectrum for Expressiveness will sit\\nsedately in a meeting, and listen more than they talk. They\\nare considered reserved, pensive, and calm. They avoid the\\nspotlight, keep their feelings to themselves, and are\\nenergized by solitude. People who are at the gregarious end\\nof the spectrum for Expressiveness are just the opposite!\\nYou can’t miss them in a meeting, since they are dynamic,\\ntalkative, and lively. They are considered outgoing,\\nanimated, and spontaneous. They seek attention, and are\\nenergized by interacting with others.\\n\\nAssertiveness is your level of interest in controlling tasks\\nand results. Your degree of Assertiveness reflects the\\n\\namount of energy you invest in expressing your thoughts,\\nfeelings and beliefs. People who are at the peacekeeping\\nend of the spectrum for Assertiveness will wait patiently and\\npolitely for an elevator. They are considered amiable,\\ndeliberate, and diplomatic. On the other hand, people who\\nare at the telling end of the spectrum for Assertiveness push\\nthe elevator button repeatedly, as if that will make it come\\nfaster. They are considered competitive, forceful, and tough.\\nThey are ready for action, and prefer a fast pace.\\n\\nFlexibility measures your willingness to accommodate the\\nthoughts and actions of others. Your degree of Flexibility\\nreflects how much you are willing to conform and flex with\\nthe interpersonal needs of others. People who are at the\\nfocused end of the spectrum for Flexibility believe they are\\nright and prefer to be in control of others. They are\\nconsidered firm, intent, and absolute. They have strong\\nopinions and prefer to stay on track. At the other end of the\\nspectrum, people who are at the accommodating end of the\\nspectrum for Flexibility are receptive, easygoing, and\\nadaptable. They don’t mind interruptions, ambiguity, or\\nchange. They see all points of view, and are accepting of\\nother people’s ideas.\\n\\nTHE EMERGENETICS ATTRIBUTES DEFINED\\n\\nThe Thinking Attributes\\n\\nPeople can’t see the way you think, and what is going on in your head may be very mysterious to them.\\n\\nAnalytical thinking is rational, inquiring, and clear. The Analytical part of the brain wants to see data and research. People\\nwith a preference for Analytical thought are considered logical, cogent, and objective. They can appreciate the scientific\\nmethod, and they learn by mental analysis.\\n\\nStructural thinking is detailed, practical, and methodical. The Structural part of the brain follows rules and is cautious of new\\nideas. People with a preference for Structural thought are considered disciplined, organized, and traditional. They like\\nguidelines, and they learn by doing.\\n\\nSocial thinking is relational, collaborative, empathic, and supportive. The Social part of the brain is team-oriented and\\nsocially aware. People with a preference for Social thought are considered connectors and are sensitive to the feelings and\\nideas of others. They are intuitive about people, and they learn from others.\\n\\nConceptual thinking is imaginative, unconventional, and visionary. The Conceptual part of the brain likes change and is easily\\nbored. People with a preference for Conceptual thought are considered inventive, original, and innovative. They are intuitive\\nabout ideas, and they learn by experimenting.\\n\\nWhen you have a preference for a particular Thinking Attribute, that means it plays a prominent role in your thinking\\nprocesses. 90% of the population has more than one thinking preference.\\n\\nYOUR EMERGENETICS PROFILE\\n\\nThe Emergenetics Profile has three important parts: a bar chart illustrating your Behavioral Attributes, a bar chart\\nillustrating your Thinking Attributes, and a pie chart that compares your Thinking Attributes to each other. Let’s take a look\\nat your Profile, and what it says about you.\\n\\n\\n\\nLet’s say your friend is in the first-third for Flexibility. Some\\ndays she will be at the sixth percentile point, and some days\\nat the thirty-second percentile point, but her comfort level is\\ngenerally first-third. It’s rare for her to jump from the sixth\\npercentile point to the ninety-fifth percentile point. If that\\nhappens, her behavior will seem “out of character,” and she\\nwill be exhausted later.\\nIf your scores fall in the second-third, our research shows\\nyou can adapt to any situation. We call this the “it depends”\\ngroup. You can go either way, depending on the\\ncircumstances.\\n\\nAlmost a Preference:\\n\\nIt is possible for a Behavioral Attribute to be a near\\npreference. If your preference is close to a cut-off\\npoint, you may sometimes behave as if you belong in\\nthe adjacent third.\\n\\nFor example, if you are in the 66th percentile for\\nExpressiveness, you are almost in the third-third.\\nSometimes you will behave in a gregarious way.\\nSimilarly, if you are in the 34th percentile for\\nExpressiveness, you are very close to being in the\\nfirst-third. Behaving in a quiet way would not be out of\\ncharacter for you. In this report we mostly will discuss\\nthe behaviors that are at the first-third and third-third\\nends of each spectrum.\\n\\nH  D  Y  B ?\\n\\nThe Behavioral Attributes Bar Chart: The Percentiles\\n\\nBar charts in shades of purple illustrate your Behavioral Attributes in percentiles. You can see at a glance the extent to which\\nyou exhibit Expressiveness, Assertiveness, and Flexibility. The bars also show how your results compare to the population at\\nlarge.\\n\\nExpressiveness 43%ile\\n\\nAssertiveness 75%ile\\n\\nFlexibility 5%ile\\n\\nFor example, you rank in the 43 percentile in Expressiveness. Imagine a room full of 100 people – including you – who\\nrepresent Expressiveness in the population at large. To your left are the people who exhibit Expressiveness in a quieter way\\nthan you do, and to your right are the people who exhibit Expressiveness in a more gregarious way than you do. There are\\n42 people to your left, and 57 people to your right.\\n\\nSimilarly, we look at the other two behavioral attributes in the same way. You rank in the 75 percentile for Assertiveness,\\nwhich means there will be 74 people to your left and 25 people to your right. You rank in the 5 percentile for Flexibility, so\\nthere will be 4 people to your left, and 95 to your right.\\n\\n \\n\\nThe Behavioral Attributes in Action: “The Thirds”\\n\\nYour responses to the Emergenetics Questionnaire place you on a particular point on the spectrum for each Behavioral\\nAttribute. Each spectrum is divided into thirds to characterize your behavioral preferences. Each of your behavioral\\npreferences is either in first-third of the population (0-33%ile), second-third of the population (34-66%ile), or third-third of\\nthe population (67-100%ile). The bar charts are very important in helping you understand how long you prefer to operate in\\nany one mode. Although people are capable of behaving out of character, preferences generally hover around the first-third,\\nsecond-third or third-third of the spectrum.\\n\\n\\n\\nWhat Does Your Profile Say About Your Behavioral Attributes?\\n\\nYour behavioral percentiles are as follows: Expressiveness (43%), Assertiveness (75%), and Flexibility (5%).\\n\\nBecause your level of Expressiveness is in the second third, you are in the “It Depends” group because you generally\\nflex your level of expressiveness situationally. In general, you are moderately expressive, neither introverted nor\\nextroverted. You may behave in a more reserved way or in a more outgoing manner. Depending on the situation and\\nyour companions, you decide how much energy you want to put into being calm and quiet, or talkative and animated.\\n\\nBecause your level of Assertiveness is in the third third, you are probably determined, driving, and telling. You\\ngenerally don’t mind handling uncertain situations, and you may enjoy being in charge. As a rule, you voice your\\nopinions and concerns willingly. You probably prefer a fast pace and like to accomplish your goals in a timely manner.\\nYou may enjoy debating, and you tend to try to convince other people about the superiority of your point of view.\\nWhen this happens, your voice may get louder. You can be direct, confrontational, and challenging.\\n\\nBecause your level of Flexibility is in the first third, you probably are focused, firm, and absolute. It’s likely you have\\nstrong opinions and a defined agenda. You generally are convinced that your solution is best, and you may prefer to\\nbe in control. You probably enjoy clear-cut situations, and you may dislike change. You most likely need time to\\nassess new procedures and ideas. Because you are known for being focused on the direction you deem most\\nappropriate, you may be perceived as stubborn.\\n\\n \\n\\nHow Your Behavioral Attributes Work Together\\n\\nLet’s say you are with a group that is trying to decide where to go for lunch. The choice is between two nearby restaurants\\n— Indian or Chinese. You desperately want Chinese food, and because you are in the first third for Flexibility, you probably\\nare not about to change your mind. Because you are in the third third for Assertiveness, you most likely are determined to\\nget the group to go your way. Since you are in the second third for Expressiveness, you probably don’t hesitate to let your\\nopinions be known. Because of your combination of Flexibility and Assertiveness, coupled with the fact that you are probably\\nnot afraid to speak up, you often manage to get your way. If the group does not choose your favorite, you may not be happy\\nabout going to the Indian restaurant, but your Expressiveness may carry the day, and you may enjoy having a conversation\\nwith someone.\\n\\n \\n\\nNOTES\\n\\n \\n\\n \\n\\n \\n\\n\\n\\nAlmost a Preference:\\n\\nIf your percentage for a Thinking Attribute almost reaches\\n23%, this is nearly a preference. The attribute influences\\nyour thinking, but is not a bona fide preference. To illustrate\\nthis concept, think of boiling water. Water boils at 100\\ndegrees Celsius (212° Fahrenheit). At 99 degrees (211°F), it\\nis simmering. We consider 22% almost a preference.\\n\\nH  D  Y  T ?\\n\\nThe Thinking Attributes Bar Chart: The Percentiles\\n\\nAnalytical 91%ile\\n\\nStructural 19%ile\\n\\nSocial 5%ile\\n\\nConceptual 69%ile\\n\\nBar charts in four colors show your Thinking Attributes in percentiles. Analytical thinking is shown in Blue, Structural thinking\\nin Green, Social thinking in Red, and Conceptual thinking in Yellow. You can see at a glance the amount of energy you invest\\nin Analytical, Structural, Social, and Conceptual thinking. The bars also show how your individual results compare to the\\npopulation at large.\\n\\nYou rank in the 91 percentile in Analytical thinking. As you did for the Behavioral Attributes, imagine a room full of 100\\npeople – including you – who represent Analytical thinking in the population at large. To your left are the people who exhibit\\nAnalytical thinking less than you do, and to your right are the people who exhibit it more than you do. There are 90 people\\nto your left, and 9 people to your right.\\n\\nSimilarly, you rank in the 19 percentile in Structural thinking. This means there would be 18 people to your left who favor\\nStructural thinking less than you do, and 81 people to your right who favor Structural thinking more than you do.\\n\\nYou rank in the 5 percentile in Social thinking, so this time you have 4 people to your left, and 95 to your right. In\\nConceptual thinking, you rank in the 69 percentile, so there are 68 people to your left who use Conceptual thinking less than\\nyou do, and 31 people to your right who use Conceptual thinking more than you do.\\n\\n \\n\\nThe Thinking Attributes in Action: The Pie Chart\\n\\nThe Pie Chart colored in Blue, Green, Red, and Yellow is derived from your percentiles, and illustrates how your thinking\\npreferences compare to each other. It reflects, in percentages, the extent to which you rely on the four Thinking Attributes.\\nOur data analysis concluded that for the Thinking Attributes, any percentages 23% or greater indicate a preference. (The\\npurple ring around the pie chart is just a reminder that your Behavioral Attributes are what people see first about you. They\\nare visible on the outside, but your Thinking Attributes are tucked inside your brain and not obvious to others.)\\n\\n \\n\\n\\n\\nWhat Does Your Profile Say About Your Thinking Attributes?\\n\\nYour Preferred Thinking Attributes: Analytical and Conceptual\\nYour Motto: “I see the forest.”\\n\\nYou have a bi-modal Profile, meaning you have two thinking preferences (each 23% or greater). Your pie chart illustrates\\nyour preferences for Analytical thinking (49%) and Conceptual thinking (38%). The Analytical/Conceptual combination is\\nfound in 13% of the population at large.\\n\\nYou probably excel at abstract thinking and see the forest (for example, entire systems) instead of individual trees (details).\\nYou are in something of a dilemma, since your Analytical thinking, which is logical, analytical, and clear, is at odds with your\\nConceptual thinking, which is imaginary, visionary, and intuitive. At times, it can be hard for you to balance both types of\\nthinking simultaneously. Both are theoretical, but Analytical thinking is step-by-step, while Conceptual thinking often comes\\nin bursts of inspiration. But each preference can also help balance the other—the blue “tethers the yellow” in\\nrationality…conceptually, you don’t take an idea too far without ensuring that it’s rational. Additionally, this can be a powerful\\ncombination because the Analytical part of your brain can translate to the outside world what the Conceptual part of your\\nbrain is thinking.\\n\\nYou probably do not let your emotions interfere with your thought processes. Because you often have your head in abstract\\nideas and concepts and because you are probably content to work independently, you run the risk of being perceived as\\nunfriendly.\\n\\nSome people with this Profile have a difficult time relating to other employees. More often than not, they believe they are\\n“smarter” than the average person. Others tend to agree and may find them intimidating. After one of my associates offered\\nthis description to an audience at a seminar, several people from the audience with Analytical/Conceptual Profiles came up\\nto him and said, “We take umbrage at your statement. We do not think we are smarter than most people, we know we are!”\\n\\nWhile you can excel in any profession, your work probably involves big-picture thinking that is backed by facts, research,\\nand data. You have the kind of brain that could help a creative team stay on budget or invent a computer system for an art\\ngallery.\\n\\nYou do not have a preference (23% or greater) for Structural thinking (10%) or Social thinking (3%). This means your\\nthinking preferences are not concrete. A corporate culture that has lots of rules and regulations may not be the ideal work\\nenvironment for you. You are not especially concerned with details, which you find tiresome, or with the human side of your\\nideas.\\n\\nHow Your Thinking Attributes Work Together\\n\\nLet’s say you inherited a large sum of money and have an opportunity to take your dream vacation. The Analytical part of\\nyour brain would want to get the best possible value for your money, while the Conceptual part of your brain would resist\\nmaking any plans at all. You would be more interested in “where?” than “with whom?” You might choose an unusual or\\nadventurous destination, document your trip with photos and written observations, then create an unusual travel diary for\\nyour own enjoyment.\\n\\nHow Do the Behavioral Attributes and the Thinking Attributes Work Together?\\n\\nIt’s very important to remember that the Behavioral Attributes determine how you put your Thinking Attributes into action.\\nFor example, people with a preference for Social thinking like being around other people. But having a Social preference\\ndoes not automatically make someone the life of the party. For those in the first third of Expressiveness, a small group is\\ngreat. For those in the third third of Expressiveness, the more the merrier!\\n\\nLet’s turn this example around a bit. Imagine people who are in the third third for Expressiveness, but who do not have a\\npreference for Social thought. They might be wonderful actors, fascinating lecturers, or animated debaters. But when you\\nare having a conversation with them, you may find them talkative but not relational - that is, you don’t get the feeling you\\nare really connecting with them. Without a Social preference, their mind is on other things - literally. It’s not personal. It’s\\npreference!\\n\\n\\n\\nYOUR PROFILE IN ACTION\\n\\nYou have Analytical and Conceptual thinking preferences, with second third Expressiveness, third third Assertiveness, and\\nfirst third Flexibility. What does this Profile mean for you?\\n\\nYour preference for Analytical thinking suggests thought processes that are theoretical, rational, and skeptical. Your\\nAnalytical brain is inquisitive and always wants answers, so you are likely to pursue topics until you are satisfied that you\\nhave the correct information. You probably prefer conclusions that are backed up with data and research. Your preference\\nfor Conceptual thinking implies thought processes that are unusual and visionary. You probably base your decisions at least\\nin part on intuition and sheer inspiration. You may surprise people by being rational and serious, and then showing a\\nglimpse of your imaginative side. Both of your thinking preferences are associated with abstract thought, which suggests\\nyou are more interested in systems and concepts, and less likely to bother with practical, concrete details or interpersonal\\nconnections. When you harness your Analytical and Conceptual preferences together, you come up with elegant solutions\\nthat are fresh, yet based on established data. Some may find some of your Conceptual ideas too far “out there”; however,\\nyou can use your Analytical preference to translate these ideas into terms everyone understands. When you are making a\\nbig decision, remember to get input from people with Structural and Social preferences in order to consider all perspectives.\\n\\nYour level of Assertiveness implies you are generally driving. You probably do everything with gusto. Your level of Flexibility\\nsuggests that once you make up your mind, you are unlikely to change it. This is the Profile of someone who likes to get his\\nor her way. Your level of Expressiveness is in the “It Depends” range, which means at times you behave in a more calm and\\nquiet (first third Expressiveness) manner and at other times you are more animated and talkative (third third\\nExpressiveness). Depending on the circumstances and your companions, you may take your Expressiveness down a notch\\nand be quiet (first third Expressiveness), forceful, and focused. When you are in this mode, you are a force to be reckoned\\nwith! People may not think about what you are doing until you have already done it. When you ramp up your\\nExpressiveness, you’ll be animated, forceful, and focused. When you are in this mode, you are a strong advocate for your\\nposition.\\n\\nAs a leader, you have strong convictions and you generally prefer a fast pace. You prefer to think theoretically, and you can\\nbe reserved or lively. When you behave with first third Expressiveness you probably get the job done with a minimum of\\ndiscussion. When you behave with third third Expressiveness, you probably keep everyone informed. As an Analytical and\\nConceptual thinker, you can be intimidating, as you are not afraid to ask tough questions, even if doing so put others on the\\nspot. You probably have a vision that extends ten years into the future, and you expect others to share your enthusiasm for\\nthe overall concept or goal. Keep in mind that your preference for abstract thought may make it hard for some people to\\nunderstand what you expect of them, so it is important to utilize your ability to adapt your Expressiveness to convey your\\ntrue intentions.\\n\\nPlease remember that there are no “right” or “wrong” Emergenetics results, and that your Profile does not indicate how\\ncapable you are at any specific activity. You are unique, and your Profile is wonderful the way it is.\\n\\nTalk to Us!\\n\\nWe would like to hear from you. Please contact your Emergenetics Associate or email the Emergenetics International\\noffice at brains@emergenetics.com with your observations, suggestions, and comments.\\n\\n \\n\\nNOTES\\n\\n \\n\\n \\n\\n \\n\\n \\n\\n\\n'"
      ]
     },
     "execution_count": 33,
     "metadata": {},
     "output_type": "execute_result"
    }
   ],
   "source": [
    "text"
   ]
  },
  {
   "cell_type": "code",
   "execution_count": 36,
   "metadata": {},
   "outputs": [
    {
     "data": {
      "text/plain": [
       "'I see the forest.'"
      ]
     },
     "execution_count": 36,
     "metadata": {},
     "output_type": "execute_result"
    }
   ],
   "source": [
    "import re\n",
    "motto_pattern = r\"\\nYour Motto: (.*)\\n\"\n",
    "re.findall(motto_pattern, text)[0][1:-1]"
   ]
  },
  {
   "cell_type": "code",
   "execution_count": null,
   "metadata": {},
   "outputs": [],
   "source": [
    "import re\n",
    "\n",
    "# analytical_percentile_pattern = r\"You rank in the (\\d+) percentile in Analytical thinking\"\n",
    "# structural_percentile_pattern = r\"you rank in the (\\d+) percentile in Structural thinking\"\n",
    "# social_percentile_pattern = r\"You rank in the (\\d+) percentile in Social thinking\" \n",
    "# conceptual_percentile_pattern = r\"Conceptual thinking, you rank in the (\\d+) percentile\"\n",
    "\n",
    "percentile_patterns = r\"The Percentiles\\n\\nAnalytical (\\d+)%ile\\n\\nStructural (\\d+)%ile\\n\\nSocial (\\d+)%ile\\n\\nConceptual (\\d+)%ile\\n\\nBar charts in four colors show your Thinking Attributes in percentiles.\"\n",
    "motto_pattern = r\"\\nYour Motto: (.*)\\n\"\n",
    "\n",
    "conceptual_pattern = r\"CONCEPTUAL = (\\d+)%\"\n",
    "analytical_pattern = r\"ANALYTICAL = (\\d+)%\"\n",
    "structural_pattern = r\"STRUCTURAL = (\\d+)%\"\n",
    "social_pattern = r\"SOCIAL = (\\d+)%\"\n",
    "\n",
    "\n",
    "other_patterns = r\"Expressiveness (\\d+)%ile\\n\\nAssertiveness (\\d+)%ile\\n\\nFlexibility (\\d+)%ile\"\n",
    "name_pattern = r\"Congratulations,(.*)!\"\n",
    "\n",
    "def extract_values(text):\n",
    "    # test = re.findall(analytical_percentile_pattern, text) + re.findall(structural_percentile_pattern, text) + re.findall(social_percentile_pattern, text) + re.findall(conceptual_percentile_pattern, text)\n",
    "    # print(test)\n",
    "    name = re.findall(name_pattern, text)[0]\n",
    "    analytical_percentile, structural_percentile, social_percentile, conceptual_percentile = re.findall(percentile_patterns, text)[0]\n",
    "    analytical_percentage = re.findall(analytical_pattern, text)[0]\n",
    "    structural_percentage = re.findall(structural_pattern, text)[0]\n",
    "    social_percentage = re.findall(social_pattern, text)[0]\n",
    "    conceptual_percentage = re.findall(conceptual_pattern, text)[0]\n",
    "    expressiveness, assertiveness, flexibility = re.findall(other_patterns, text)[0]\n",
    "    motto = re.findall(motto_pattern, text)[0][1:-1]\n",
    "\n",
    "    return {\n",
    "        'Name': name.title().strip(),\n",
    "        'Motto': motto.strip(),\n",
    "        'Analytical': analytical_percentage, \n",
    "        'Conceptual': conceptual_percentage,\n",
    "        'Structural': structural_percentage, \n",
    "        'Social': social_percentage, \n",
    "        'Analytical Percentile': analytical_percentile,\n",
    "        'Conceptual Percentile': conceptual_percentile, \n",
    "        'Structural Percentile': structural_percentile, \n",
    "        'Social Percentile': social_percentile, \n",
    "        'Expressiveness': expressiveness, \n",
    "        'Assertiveness': assertiveness, \n",
    "        'Flexibility': flexibility\n",
    "    }"
   ]
  },
  {
   "cell_type": "code",
   "execution_count": null,
   "metadata": {},
   "outputs": [],
   "source": [
    "from glob import glob\n",
    "filepaths = glob('./AIPF Emergenetics Profile/*.pdf')\n",
    "profiles = []\n",
    "for fp in filepaths:\n",
    "    print(fp)\n",
    "    parsed_pdf = parser.from_file(fp)\n",
    "    content = parsed_pdf['content']    \n",
    "    if not content.strip().endswith('Please contact your Emergenetics Associate or email the Emergenetics International\\noffice at brains@emergenetics.com with your observations, suggestions, and comments.\\n\\n \\n\\nNOTES'):\n",
    "        print('Invalid file')\n",
    "        continue\n",
    "    extracted = extract_values(content)\n",
    "    profiles.append(extracted)\n"
   ]
  },
  {
   "cell_type": "code",
   "execution_count": null,
   "metadata": {},
   "outputs": [],
   "source": [
    "import pandas as pd\n",
    "df_profiles = pd.DataFrame(profiles)\n",
    "df_profiles"
   ]
  },
  {
   "cell_type": "code",
   "execution_count": null,
   "metadata": {},
   "outputs": [],
   "source": [
    "df_profiles.to_csv('profile.csv', index=False)"
   ]
  },
  {
   "cell_type": "code",
   "execution_count": 2,
   "metadata": {},
   "outputs": [],
   "source": [
    "# import pandas as pd\n",
    "# df = pd.read_csv('profile.csv')"
   ]
  },
  {
   "cell_type": "code",
   "execution_count": 8,
   "metadata": {},
   "outputs": [],
   "source": [
    "from sklearn.metrics.pairwise import cosine_similarity\n",
    "cos_sim = cosine_similarity(df_profiles[['Analytical', 'Conceptual', 'Structural', 'Social']])"
   ]
  },
  {
   "cell_type": "code",
   "execution_count": null,
   "metadata": {},
   "outputs": [],
   "source": [
    "import numpy as np\n",
    "np.save('cosine_similarity.npy', cos_sim)"
   ]
  },
  {
   "cell_type": "code",
   "execution_count": 9,
   "metadata": {},
   "outputs": [
    {
     "data": {
      "text/plain": [
       "0.9999999999999999"
      ]
     },
     "execution_count": 9,
     "metadata": {},
     "output_type": "execute_result"
    }
   ],
   "source": [
    "cos_sim[0][0]"
   ]
  },
  {
   "cell_type": "code",
   "execution_count": 20,
   "metadata": {},
   "outputs": [
    {
     "data": {
      "text/plain": [
       "7"
      ]
     },
     "execution_count": 20,
     "metadata": {},
     "output_type": "execute_result"
    }
   ],
   "source": [
    "df_profiles[df_profiles['Name'])=='Watson Chua'].index[0]"
   ]
  },
  {
   "cell_type": "code",
   "execution_count": 11,
   "metadata": {},
   "outputs": [
    {
     "data": {
      "text/plain": [
       "0              Becca Qiu\n",
       "1              Carine Oh\n",
       "2      Alvin Shi Jiin Ng\n",
       "3             Shangru Ng\n",
       "4               Quan Xue\n",
       "5             Zixiang Ng\n",
       "6             Victor Loh\n",
       "7            Watson Chua\n",
       "8             Amelia Lee\n",
       "9          Woon Peng Goh\n",
       "10              Jing Han\n",
       "11        Sulaiman Alwie\n",
       "12           Pek Kuan Ng\n",
       "13           Wenjie Boon\n",
       "14         Jiew Peng Lim\n",
       "15             Ryan Fong\n",
       "16                 Lu Li\n",
       "17            Esther Gao\n",
       "18         Chii Yeh Chin\n",
       "19            Alvina Goh\n",
       "20         Weiguang Chen\n",
       "Name: Name, dtype: object"
      ]
     },
     "execution_count": 11,
     "metadata": {},
     "output_type": "execute_result"
    }
   ],
   "source": [
    "df_profiles['Name']"
   ]
  },
  {
   "cell_type": "code",
   "execution_count": 25,
   "metadata": {},
   "outputs": [
    {
     "data": {
      "text/plain": [
       "array([ 0, 16,  9, 19])"
      ]
     },
     "execution_count": 25,
     "metadata": {},
     "output_type": "execute_result"
    }
   ],
   "source": [
    "import numpy as np\n",
    "# np.argsort(cos_sim[7])\n",
    "(-cos_sim[7]).argsort()[1:5]"
   ]
  },
  {
   "cell_type": "code",
   "execution_count": 28,
   "metadata": {},
   "outputs": [
    {
     "data": {
      "text/plain": [
       "Name                      Alvina Goh\n",
       "Analytical                        48\n",
       "Conceptual                        45\n",
       "Structural                         4\n",
       "Social                             3\n",
       "Analytical Percentile             95\n",
       "Conceptual Percentile             89\n",
       "Structural Percentile              8\n",
       "Social Percentile                  5\n",
       "Expressiveness                     7\n",
       "Assertiveness                     76\n",
       "Flexibility                        5\n",
       "Name: 19, dtype: object"
      ]
     },
     "execution_count": 28,
     "metadata": {},
     "output_type": "execute_result"
    }
   ],
   "source": [
    "df.iloc[19]"
   ]
  },
  {
   "cell_type": "code",
   "execution_count": null,
   "metadata": {},
   "outputs": [],
   "source": []
  }
 ],
 "metadata": {
  "kernelspec": {
   "display_name": "Python 3.8.10 64-bit",
   "language": "python",
   "name": "python3"
  },
  "language_info": {
   "codemirror_mode": {
    "name": "ipython",
    "version": 3
   },
   "file_extension": ".py",
   "mimetype": "text/x-python",
   "name": "python",
   "nbconvert_exporter": "python",
   "pygments_lexer": "ipython3",
   "version": "3.8.10"
  },
  "orig_nbformat": 4,
  "vscode": {
   "interpreter": {
    "hash": "916dbcbb3f70747c44a77c7bcd40155683ae19c65e1c03b4aa3499c5328201f1"
   }
  }
 },
 "nbformat": 4,
 "nbformat_minor": 2
}
